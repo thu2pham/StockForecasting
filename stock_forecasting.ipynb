{
 "cells": [
  {
   "cell_type": "code",
   "execution_count": 5,
   "metadata": {
    "colab": {
     "base_uri": "https://localhost:8080/",
     "height": 1465
    },
    "colab_type": "code",
    "id": "cYHddpw4y4Vw",
    "outputId": "18a78c61-0e89-43bb-d2fd-9ea20bc2acfb"
   },
   "outputs": [
    {
     "name": "stdout",
     "output_type": "stream",
     "text": [
      "Requirement already up-to-date: pandas in /Users/thupham/anaconda3/envs/py36/lib/python3.6/site-packages (0.24.2)\n",
      "Requirement already satisfied, skipping upgrade: pytz>=2011k in /Users/thupham/anaconda3/envs/py36/lib/python3.6/site-packages (from pandas) (2018.4)\n",
      "Requirement already satisfied, skipping upgrade: numpy>=1.12.0 in /Users/thupham/anaconda3/envs/py36/lib/python3.6/site-packages (from pandas) (1.14.6)\n",
      "Requirement already satisfied, skipping upgrade: python-dateutil>=2.5.0 in /Users/thupham/anaconda3/envs/py36/lib/python3.6/site-packages (from pandas) (2.7.3)\n",
      "Requirement already satisfied, skipping upgrade: six>=1.5 in /Users/thupham/anaconda3/envs/py36/lib/python3.6/site-packages (from python-dateutil>=2.5.0->pandas) (1.11.0)\n",
      "Collecting numpy\n",
      "  Using cached https://files.pythonhosted.org/packages/93/0e/30aaa357c3065957344b240482818eef31d4080f73dfa5f1ef7dcd8744d2/numpy-1.16.2-cp36-cp36m-macosx_10_6_intel.macosx_10_9_intel.macosx_10_9_x86_64.macosx_10_10_intel.macosx_10_10_x86_64.whl\n",
      "\u001b[31mplotnine 0.5.1 has requirement matplotlib>=3.0.0, but you'll have matplotlib 2.2.2 which is incompatible.\u001b[0m\n",
      "\u001b[31mmxnet 1.4.0 has requirement numpy<1.15.0,>=1.8.2, but you'll have numpy 1.16.2 which is incompatible.\u001b[0m\n",
      "Installing collected packages: numpy\n",
      "  Found existing installation: numpy 1.14.6\n",
      "    Uninstalling numpy-1.14.6:\n",
      "      Successfully uninstalled numpy-1.14.6\n",
      "Successfully installed numpy-1.16.2\n",
      "Requirement already satisfied: fastai==0.7.0 in /Users/thupham/anaconda3/envs/py36/lib/python3.6/site-packages (0.7.0)\n",
      "Requirement already satisfied: webencodings in /Users/thupham/anaconda3/envs/py36/lib/python3.6/site-packages (from fastai==0.7.0) (0.5.1)\n",
      "Requirement already satisfied: wcwidth in /Users/thupham/anaconda3/envs/py36/lib/python3.6/site-packages (from fastai==0.7.0) (0.1.7)\n",
      "Requirement already satisfied: jedi in /Users/thupham/anaconda3/envs/py36/lib/python3.6/site-packages (from fastai==0.7.0) (0.12.0)\n",
      "Requirement already satisfied: numpy in /Users/thupham/anaconda3/envs/py36/lib/python3.6/site-packages (from fastai==0.7.0) (1.16.2)\n",
      "Requirement already satisfied: python-dateutil in /Users/thupham/anaconda3/envs/py36/lib/python3.6/site-packages (from fastai==0.7.0) (2.7.3)\n",
      "Requirement already satisfied: jsonschema in /Users/thupham/anaconda3/envs/py36/lib/python3.6/site-packages (from fastai==0.7.0) (2.6.0)\n",
      "Requirement already satisfied: html5lib in /Users/thupham/anaconda3/envs/py36/lib/python3.6/site-packages (from fastai==0.7.0) (1.0.1)\n",
      "Requirement already satisfied: traitlets in /Users/thupham/anaconda3/envs/py36/lib/python3.6/site-packages (from fastai==0.7.0) (4.3.2)\n",
      "Requirement already satisfied: certifi in /Users/thupham/anaconda3/envs/py36/lib/python3.6/site-packages (from fastai==0.7.0) (2018.4.16)\n",
      "Requirement already satisfied: Jinja2 in /Users/thupham/anaconda3/envs/py36/lib/python3.6/site-packages (from fastai==0.7.0) (2.10)\n",
      "Requirement already satisfied: decorator in /Users/thupham/anaconda3/envs/py36/lib/python3.6/site-packages (from fastai==0.7.0) (4.3.0)\n",
      "Requirement already satisfied: feather-format in /Users/thupham/anaconda3/envs/py36/lib/python3.6/site-packages (from fastai==0.7.0) (0.4.0)\n",
      "Requirement already satisfied: Pillow in /Users/thupham/anaconda3/envs/py36/lib/python3.6/site-packages (from fastai==0.7.0) (5.1.0)\n",
      "Requirement already satisfied: jupyter in /Users/thupham/anaconda3/envs/py36/lib/python3.6/site-packages (from fastai==0.7.0) (1.0.0)\n",
      "Requirement already satisfied: ptyprocess in /Users/thupham/anaconda3/envs/py36/lib/python3.6/site-packages (from fastai==0.7.0) (0.5.2)\n",
      "Requirement already satisfied: Pygments in /Users/thupham/anaconda3/envs/py36/lib/python3.6/site-packages (from fastai==0.7.0) (2.2.0)\n",
      "Requirement already satisfied: pyparsing in /Users/thupham/anaconda3/envs/py36/lib/python3.6/site-packages (from fastai==0.7.0) (2.2.0)\n",
      "Requirement already satisfied: scipy in /Users/thupham/anaconda3/envs/py36/lib/python3.6/site-packages (from fastai==0.7.0) (1.1.0)\n",
      "Requirement already satisfied: torchvision in /Users/thupham/anaconda3/envs/py36/lib/python3.6/site-packages (from fastai==0.7.0) (0.2.2.post3)\n",
      "Requirement already satisfied: ipython-genutils in /Users/thupham/anaconda3/envs/py36/lib/python3.6/site-packages (from fastai==0.7.0) (0.2.0)\n",
      "Requirement already satisfied: ipykernel in /Users/thupham/anaconda3/envs/py36/lib/python3.6/site-packages (from fastai==0.7.0) (4.8.2)\n",
      "Requirement already satisfied: PyYAML in /Users/thupham/anaconda3/envs/py36/lib/python3.6/site-packages (from fastai==0.7.0) (3.12)\n",
      "Requirement already satisfied: pyzmq in /Users/thupham/anaconda3/envs/py36/lib/python3.6/site-packages (from fastai==0.7.0) (17.0.0)\n",
      "Requirement already satisfied: tornado in /Users/thupham/anaconda3/envs/py36/lib/python3.6/site-packages (from fastai==0.7.0) (5.0.2)\n",
      "Requirement already satisfied: matplotlib in /Users/thupham/anaconda3/envs/py36/lib/python3.6/site-packages (from fastai==0.7.0) (2.2.2)\n",
      "Requirement already satisfied: pytz in /Users/thupham/anaconda3/envs/py36/lib/python3.6/site-packages (from fastai==0.7.0) (2018.4)\n",
      "Requirement already satisfied: torch<0.4 in /Users/thupham/anaconda3/envs/py36/lib/python3.6/site-packages (from fastai==0.7.0) (0.3.1)\n",
      "Requirement already satisfied: widgetsnbextension in /Users/thupham/anaconda3/envs/py36/lib/python3.6/site-packages (from fastai==0.7.0) (3.2.1)\n",
      "Requirement already satisfied: isoweek in /Users/thupham/anaconda3/envs/py36/lib/python3.6/site-packages (from fastai==0.7.0) (1.3.3)\n",
      "Requirement already satisfied: ipywidgets in /Users/thupham/anaconda3/envs/py36/lib/python3.6/site-packages (from fastai==0.7.0) (7.2.1)\n",
      "Requirement already satisfied: graphviz in /Users/thupham/anaconda3/envs/py36/lib/python3.6/site-packages (from fastai==0.7.0) (0.8.4)\n",
      "Requirement already satisfied: bcolz in /Users/thupham/anaconda3/envs/py36/lib/python3.6/site-packages (from fastai==0.7.0) (1.2.1)\n",
      "Requirement already satisfied: testpath in /Users/thupham/anaconda3/envs/py36/lib/python3.6/site-packages (from fastai==0.7.0) (0.3.1)\n",
      "Requirement already satisfied: plotnine in /Users/thupham/anaconda3/envs/py36/lib/python3.6/site-packages (from fastai==0.7.0) (0.5.1)\n",
      "Requirement already satisfied: sklearn-pandas in /Users/thupham/anaconda3/envs/py36/lib/python3.6/site-packages (from fastai==0.7.0) (1.8.0)\n",
      "Requirement already satisfied: bleach in /Users/thupham/anaconda3/envs/py36/lib/python3.6/site-packages (from fastai==0.7.0) (2.1.3)\n",
      "Requirement already satisfied: entrypoints in /Users/thupham/anaconda3/envs/py36/lib/python3.6/site-packages (from fastai==0.7.0) (0.2.3)\n",
      "Requirement already satisfied: tqdm in /Users/thupham/anaconda3/envs/py36/lib/python3.6/site-packages (from fastai==0.7.0) (4.31.1)\n",
      "Requirement already satisfied: MarkupSafe in /Users/thupham/anaconda3/envs/py36/lib/python3.6/site-packages (from fastai==0.7.0) (1.0)\n",
      "Requirement already satisfied: pandas-summary in /Users/thupham/anaconda3/envs/py36/lib/python3.6/site-packages (from fastai==0.7.0) (0.0.6)\n",
      "Requirement already satisfied: pandas in /Users/thupham/anaconda3/envs/py36/lib/python3.6/site-packages (from fastai==0.7.0) (0.24.2)\n",
      "Requirement already satisfied: torchtext in /Users/thupham/anaconda3/envs/py36/lib/python3.6/site-packages (from fastai==0.7.0) (0.3.1)\n",
      "Requirement already satisfied: cycler in /Users/thupham/anaconda3/envs/py36/lib/python3.6/site-packages (from fastai==0.7.0) (0.10.0)\n",
      "Requirement already satisfied: seaborn in /Users/thupham/anaconda3/envs/py36/lib/python3.6/site-packages (from fastai==0.7.0) (0.8.1)\n",
      "Requirement already satisfied: simplegeneric in /Users/thupham/anaconda3/envs/py36/lib/python3.6/site-packages (from fastai==0.7.0) (0.8.1)\n",
      "Requirement already satisfied: ipython in /Users/thupham/anaconda3/envs/py36/lib/python3.6/site-packages (from fastai==0.7.0) (6.4.0)\n",
      "Requirement already satisfied: opencv-python in /Users/thupham/anaconda3/envs/py36/lib/python3.6/site-packages (from fastai==0.7.0) (4.0.0.21)\n",
      "Requirement already satisfied: pickleshare in /Users/thupham/anaconda3/envs/py36/lib/python3.6/site-packages (from fastai==0.7.0) (0.7.4)\n",
      "Requirement already satisfied: parso>=0.2.0 in /Users/thupham/anaconda3/envs/py36/lib/python3.6/site-packages (from jedi->fastai==0.7.0) (0.2.0)\n",
      "Requirement already satisfied: six>=1.5 in /Users/thupham/anaconda3/envs/py36/lib/python3.6/site-packages (from python-dateutil->fastai==0.7.0) (1.11.0)\n",
      "Requirement already satisfied: pyarrow>=0.4.0 in /Users/thupham/anaconda3/envs/py36/lib/python3.6/site-packages (from feather-format->fastai==0.7.0) (0.13.0)\n",
      "Requirement already satisfied: notebook in /Users/thupham/anaconda3/envs/py36/lib/python3.6/site-packages (from jupyter->fastai==0.7.0) (5.5.0)\n",
      "Requirement already satisfied: qtconsole in /Users/thupham/anaconda3/envs/py36/lib/python3.6/site-packages (from jupyter->fastai==0.7.0) (4.3.1)\n",
      "Requirement already satisfied: jupyter-console in /Users/thupham/anaconda3/envs/py36/lib/python3.6/site-packages (from jupyter->fastai==0.7.0) (5.2.0)\n"
     ]
    },
    {
     "name": "stdout",
     "output_type": "stream",
     "text": [
      "Requirement already satisfied: nbconvert in /Users/thupham/anaconda3/envs/py36/lib/python3.6/site-packages (from jupyter->fastai==0.7.0) (5.3.1)\n",
      "Requirement already satisfied: jupyter_client in /Users/thupham/anaconda3/envs/py36/lib/python3.6/site-packages (from ipykernel->fastai==0.7.0) (5.2.3)\n",
      "Requirement already satisfied: kiwisolver>=1.0.1 in /Users/thupham/anaconda3/envs/py36/lib/python3.6/site-packages (from matplotlib->fastai==0.7.0) (1.0.1)\n",
      "Requirement already satisfied: nbformat>=4.2.0 in /Users/thupham/anaconda3/envs/py36/lib/python3.6/site-packages (from ipywidgets->fastai==0.7.0) (4.4.0)\n",
      "Requirement already satisfied: descartes>=1.1.0 in /Users/thupham/anaconda3/envs/py36/lib/python3.6/site-packages (from plotnine->fastai==0.7.0) (1.1.0)\n",
      "Requirement already satisfied: mizani>=0.5.2 in /Users/thupham/anaconda3/envs/py36/lib/python3.6/site-packages (from plotnine->fastai==0.7.0) (0.5.4)\n",
      "Requirement already satisfied: statsmodels>=0.8.0 in /Users/thupham/anaconda3/envs/py36/lib/python3.6/site-packages (from plotnine->fastai==0.7.0) (0.9.0)\n",
      "Requirement already satisfied: patsy>=0.4.1 in /Users/thupham/anaconda3/envs/py36/lib/python3.6/site-packages (from plotnine->fastai==0.7.0) (0.5.0)\n",
      "Requirement already satisfied: scikit-learn>=0.15.0 in /Users/thupham/anaconda3/envs/py36/lib/python3.6/site-packages (from sklearn-pandas->fastai==0.7.0) (0.19.1)\n",
      "Requirement already satisfied: requests in /Users/thupham/anaconda3/envs/py36/lib/python3.6/site-packages (from torchtext->fastai==0.7.0) (2.21.0)\n",
      "Requirement already satisfied: backcall in /Users/thupham/anaconda3/envs/py36/lib/python3.6/site-packages (from ipython->fastai==0.7.0) (0.1.0)\n",
      "Requirement already satisfied: appnope; sys_platform == \"darwin\" in /Users/thupham/anaconda3/envs/py36/lib/python3.6/site-packages (from ipython->fastai==0.7.0) (0.1.0)\n",
      "Requirement already satisfied: pexpect; sys_platform != \"win32\" in /Users/thupham/anaconda3/envs/py36/lib/python3.6/site-packages (from ipython->fastai==0.7.0) (4.5.0)\n",
      "Requirement already satisfied: setuptools>=18.5 in /Users/thupham/anaconda3/envs/py36/lib/python3.6/site-packages (from ipython->fastai==0.7.0) (39.1.0)\n",
      "Requirement already satisfied: prompt-toolkit<2.0.0,>=1.0.15 in /Users/thupham/anaconda3/envs/py36/lib/python3.6/site-packages (from ipython->fastai==0.7.0) (1.0.15)\n",
      "Requirement already satisfied: jupyter-core>=4.4.0 in /Users/thupham/anaconda3/envs/py36/lib/python3.6/site-packages (from notebook->jupyter->fastai==0.7.0) (4.4.0)\n",
      "Requirement already satisfied: Send2Trash in /Users/thupham/anaconda3/envs/py36/lib/python3.6/site-packages (from notebook->jupyter->fastai==0.7.0) (1.5.0)\n",
      "Requirement already satisfied: terminado>=0.8.1 in /Users/thupham/anaconda3/envs/py36/lib/python3.6/site-packages (from notebook->jupyter->fastai==0.7.0) (0.8.1)\n",
      "Requirement already satisfied: mistune>=0.7.4 in /Users/thupham/anaconda3/envs/py36/lib/python3.6/site-packages (from nbconvert->jupyter->fastai==0.7.0) (0.8.3)\n",
      "Requirement already satisfied: pandocfilters>=1.4.1 in /Users/thupham/anaconda3/envs/py36/lib/python3.6/site-packages (from nbconvert->jupyter->fastai==0.7.0) (1.4.2)\n",
      "Requirement already satisfied: palettable in /Users/thupham/anaconda3/envs/py36/lib/python3.6/site-packages (from mizani>=0.5.2->plotnine->fastai==0.7.0) (3.1.1)\n",
      "Requirement already satisfied: urllib3<1.25,>=1.21.1 in /Users/thupham/anaconda3/envs/py36/lib/python3.6/site-packages (from requests->torchtext->fastai==0.7.0) (1.22)\n",
      "Requirement already satisfied: chardet<3.1.0,>=3.0.2 in /Users/thupham/anaconda3/envs/py36/lib/python3.6/site-packages (from requests->torchtext->fastai==0.7.0) (3.0.4)\n",
      "Requirement already satisfied: idna<2.9,>=2.5 in /Users/thupham/anaconda3/envs/py36/lib/python3.6/site-packages (from requests->torchtext->fastai==0.7.0) (2.6)\n"
     ]
    }
   ],
   "source": [
    "!pip install --upgrade pandas\n",
    "!pip install --upgrade numpy\n",
    "!pip install fastai==0.7.0"
   ]
  },
  {
   "cell_type": "markdown",
   "metadata": {
    "colab_type": "text",
    "id": "MlGAgPlXxe0B"
   },
   "source": [
    "** DS-420 - Project **\n",
    "\n",
    "- Quang Lam\n",
    "- Thu Pham"
   ]
  },
  {
   "cell_type": "code",
   "execution_count": 1,
   "metadata": {
    "colab": {},
    "colab_type": "code",
    "id": "8yZYIkaljMSd"
   },
   "outputs": [
    {
     "name": "stderr",
     "output_type": "stream",
     "text": [
      "/Users/thupham/anaconda3/envs/py36/lib/python3.6/site-packages/sklearn/ensemble/weight_boosting.py:29: DeprecationWarning: numpy.core.umath_tests is an internal NumPy module and should not be imported. It will be removed in a future NumPy release.\n",
      "  from numpy.core.umath_tests import inner1d\n",
      "/Users/thupham/anaconda3/envs/py36/lib/python3.6/site-packages/h5py/__init__.py:36: FutureWarning: Conversion of the second argument of issubdtype from `float` to `np.floating` is deprecated. In future, it will be treated as `np.float64 == np.dtype(float).type`.\n",
      "  from ._conv import register_converters as _register_converters\n",
      "Using TensorFlow backend.\n"
     ]
    },
    {
     "data": {
      "text/plain": [
       "<Figure size 1600x800 with 0 Axes>"
      ]
     },
     "execution_count": 1,
     "metadata": {},
     "output_type": "execute_result"
    }
   ],
   "source": [
    "# Import\n",
    "import math\n",
    "import matplotlib.pyplot as plt\n",
    "import pandas as pd\n",
    "import numpy as np\n",
    "from fastai.structured import add_datepart\n",
    "\n",
    "# Linear Regression\n",
    "from sklearn.linear_model import LinearRegression\n",
    "\n",
    "# k-Nearest Neighbors\n",
    "from sklearn import neighbors\n",
    "from sklearn.model_selection import GridSearchCV\n",
    "from sklearn.preprocessing import MinMaxScaler\n",
    "\n",
    "# Long-term Memory\n",
    "from sklearn.preprocessing import MinMaxScaler\n",
    "from keras.models import Sequential\n",
    "from keras.layers import Dense, Dropout, LSTM, Activation\n",
    "\n",
    "plt.figure(figsize=(16,8))"
   ]
  },
  {
   "cell_type": "markdown",
   "metadata": {
    "colab_type": "text",
    "id": "BFS617G_jMSh"
   },
   "source": [
    "# Data Initialization"
   ]
  },
  {
   "cell_type": "code",
   "execution_count": 2,
   "metadata": {
    "colab": {},
    "colab_type": "code",
    "id": "llajHuSrjMSv"
   },
   "outputs": [],
   "source": [
    "# Config\n",
    "symbl = 'MSFT'\n",
    "apiKey = ''\n",
    "\n",
    "# Fetch Historical Data\n",
    "df = pd.read_csv('https://www.alphavantage.co/query?datatype=csv&function=TIME_SERIES_WEEKLY&symbol=' + symbl + '&outputsize=compact&apikey=' + apiKey)\n",
    "\n",
    "# Setting index as date\n",
    "df['timestamp'] = pd.to_datetime(df.timestamp, format='%Y-%m-%d')\n",
    "df.index = df['timestamp']"
   ]
  },
  {
   "cell_type": "markdown",
   "metadata": {
    "colab_type": "text",
    "id": "G0xqfsSgjMTC"
   },
   "source": [
    "# Data Overview"
   ]
  },
  {
   "cell_type": "code",
   "execution_count": 3,
   "metadata": {
    "colab": {
     "base_uri": "https://localhost:8080/",
     "height": 297
    },
    "colab_type": "code",
    "id": "_PqfMfQijMS4",
    "outputId": "388919fc-238d-441d-d708-53a360641aa8"
   },
   "outputs": [
    {
     "data": {
      "text/html": [
       "<div>\n",
       "<style scoped>\n",
       "    .dataframe tbody tr th:only-of-type {\n",
       "        vertical-align: middle;\n",
       "    }\n",
       "\n",
       "    .dataframe tbody tr th {\n",
       "        vertical-align: top;\n",
       "    }\n",
       "\n",
       "    .dataframe thead th {\n",
       "        text-align: right;\n",
       "    }\n",
       "</style>\n",
       "<table border=\"1\" class=\"dataframe\">\n",
       "  <thead>\n",
       "    <tr style=\"text-align: right;\">\n",
       "      <th></th>\n",
       "      <th>open</th>\n",
       "      <th>high</th>\n",
       "      <th>low</th>\n",
       "      <th>close</th>\n",
       "      <th>volume</th>\n",
       "    </tr>\n",
       "  </thead>\n",
       "  <tbody>\n",
       "    <tr>\n",
       "      <th>count</th>\n",
       "      <td>1109.00000</td>\n",
       "      <td>1109.000000</td>\n",
       "      <td>1109.000000</td>\n",
       "      <td>1109.000000</td>\n",
       "      <td>1.109000e+03</td>\n",
       "    </tr>\n",
       "    <tr>\n",
       "      <th>mean</th>\n",
       "      <td>49.63532</td>\n",
       "      <td>51.149049</td>\n",
       "      <td>48.233323</td>\n",
       "      <td>49.816986</td>\n",
       "      <td>2.281114e+08</td>\n",
       "    </tr>\n",
       "    <tr>\n",
       "      <th>std</th>\n",
       "      <td>29.84560</td>\n",
       "      <td>31.005392</td>\n",
       "      <td>28.806366</td>\n",
       "      <td>30.152270</td>\n",
       "      <td>1.169260e+08</td>\n",
       "    </tr>\n",
       "    <tr>\n",
       "      <th>min</th>\n",
       "      <td>15.20000</td>\n",
       "      <td>16.400000</td>\n",
       "      <td>14.870000</td>\n",
       "      <td>15.280000</td>\n",
       "      <td>2.801630e+07</td>\n",
       "    </tr>\n",
       "    <tr>\n",
       "      <th>25%</th>\n",
       "      <td>27.06000</td>\n",
       "      <td>27.620000</td>\n",
       "      <td>26.600000</td>\n",
       "      <td>27.140000</td>\n",
       "      <td>1.405655e+08</td>\n",
       "    </tr>\n",
       "    <tr>\n",
       "      <th>50%</th>\n",
       "      <td>35.59000</td>\n",
       "      <td>36.290000</td>\n",
       "      <td>34.350000</td>\n",
       "      <td>35.670000</td>\n",
       "      <td>2.116416e+08</td>\n",
       "    </tr>\n",
       "    <tr>\n",
       "      <th>75%</th>\n",
       "      <td>64.99000</td>\n",
       "      <td>66.350000</td>\n",
       "      <td>63.480000</td>\n",
       "      <td>64.980000</td>\n",
       "      <td>2.956390e+08</td>\n",
       "    </tr>\n",
       "    <tr>\n",
       "      <th>max</th>\n",
       "      <td>175.44000</td>\n",
       "      <td>180.380000</td>\n",
       "      <td>163.130000</td>\n",
       "      <td>178.130000</td>\n",
       "      <td>8.797232e+08</td>\n",
       "    </tr>\n",
       "  </tbody>\n",
       "</table>\n",
       "</div>"
      ],
      "text/plain": [
       "             open         high          low        close        volume\n",
       "count  1109.00000  1109.000000  1109.000000  1109.000000  1.109000e+03\n",
       "mean     49.63532    51.149049    48.233323    49.816986  2.281114e+08\n",
       "std      29.84560    31.005392    28.806366    30.152270  1.169260e+08\n",
       "min      15.20000    16.400000    14.870000    15.280000  2.801630e+07\n",
       "25%      27.06000    27.620000    26.600000    27.140000  1.405655e+08\n",
       "50%      35.59000    36.290000    34.350000    35.670000  2.116416e+08\n",
       "75%      64.99000    66.350000    63.480000    64.980000  2.956390e+08\n",
       "max     175.44000   180.380000   163.130000   178.130000  8.797232e+08"
      ]
     },
     "execution_count": 3,
     "metadata": {},
     "output_type": "execute_result"
    }
   ],
   "source": [
    "# Get general statistics\n",
    "df.describe()"
   ]
  },
  {
   "cell_type": "code",
   "execution_count": 4,
   "metadata": {
    "colab": {
     "base_uri": "https://localhost:8080/",
     "height": 136
    },
    "colab_type": "code",
    "id": "TMBJPU2DjMS7",
    "outputId": "c95f7674-47be-4bf7-adcc-bc20d4e67378"
   },
   "outputs": [
    {
     "data": {
      "text/plain": [
       "timestamp    datetime64[ns]\n",
       "open                float64\n",
       "high                float64\n",
       "low                 float64\n",
       "close               float64\n",
       "volume                int64\n",
       "dtype: object"
      ]
     },
     "execution_count": 4,
     "metadata": {},
     "output_type": "execute_result"
    }
   ],
   "source": [
    "# Get data types\n",
    "df.dtypes"
   ]
  },
  {
   "cell_type": "code",
   "execution_count": 5,
   "metadata": {
    "colab": {
     "base_uri": "https://localhost:8080/",
     "height": 390
    },
    "colab_type": "code",
    "id": "3CQCDyJ_qoBT",
    "outputId": "11e751c0-9298-4f78-db1a-e140a8db543a"
   },
   "outputs": [
    {
     "data": {
      "text/html": [
       "<div>\n",
       "<style scoped>\n",
       "    .dataframe tbody tr th:only-of-type {\n",
       "        vertical-align: middle;\n",
       "    }\n",
       "\n",
       "    .dataframe tbody tr th {\n",
       "        vertical-align: top;\n",
       "    }\n",
       "\n",
       "    .dataframe thead th {\n",
       "        text-align: right;\n",
       "    }\n",
       "</style>\n",
       "<table border=\"1\" class=\"dataframe\">\n",
       "  <thead>\n",
       "    <tr style=\"text-align: right;\">\n",
       "      <th></th>\n",
       "      <th>timestamp</th>\n",
       "      <th>open</th>\n",
       "      <th>high</th>\n",
       "      <th>low</th>\n",
       "      <th>close</th>\n",
       "      <th>volume</th>\n",
       "    </tr>\n",
       "    <tr>\n",
       "      <th>timestamp</th>\n",
       "      <th></th>\n",
       "      <th></th>\n",
       "      <th></th>\n",
       "      <th></th>\n",
       "      <th></th>\n",
       "      <th></th>\n",
       "    </tr>\n",
       "  </thead>\n",
       "  <tbody>\n",
       "    <tr>\n",
       "      <th>2019-04-03</th>\n",
       "      <td>2019-04-03</td>\n",
       "      <td>118.95</td>\n",
       "      <td>120.430</td>\n",
       "      <td>118.1000</td>\n",
       "      <td>119.97</td>\n",
       "      <td>63259546</td>\n",
       "    </tr>\n",
       "    <tr>\n",
       "      <th>2019-03-29</th>\n",
       "      <td>2019-03-29</td>\n",
       "      <td>116.56</td>\n",
       "      <td>118.705</td>\n",
       "      <td>115.5215</td>\n",
       "      <td>117.94</td>\n",
       "      <td>119632716</td>\n",
       "    </tr>\n",
       "    <tr>\n",
       "      <th>2019-03-22</th>\n",
       "      <td>2019-03-22</td>\n",
       "      <td>116.17</td>\n",
       "      <td>120.820</td>\n",
       "      <td>116.0500</td>\n",
       "      <td>117.05</td>\n",
       "      <td>160388610</td>\n",
       "    </tr>\n",
       "    <tr>\n",
       "      <th>2019-03-15</th>\n",
       "      <td>2019-03-15</td>\n",
       "      <td>110.99</td>\n",
       "      <td>117.250</td>\n",
       "      <td>110.9800</td>\n",
       "      <td>115.91</td>\n",
       "      <td>173532134</td>\n",
       "    </tr>\n",
       "    <tr>\n",
       "      <th>2019-03-08</th>\n",
       "      <td>2019-03-08</td>\n",
       "      <td>113.02</td>\n",
       "      <td>113.250</td>\n",
       "      <td>108.8000</td>\n",
       "      <td>110.51</td>\n",
       "      <td>111990712</td>\n",
       "    </tr>\n",
       "    <tr>\n",
       "      <th>2019-03-01</th>\n",
       "      <td>2019-03-01</td>\n",
       "      <td>111.76</td>\n",
       "      <td>113.240</td>\n",
       "      <td>110.8800</td>\n",
       "      <td>112.53</td>\n",
       "      <td>119359497</td>\n",
       "    </tr>\n",
       "    <tr>\n",
       "      <th>2019-02-22</th>\n",
       "      <td>2019-02-22</td>\n",
       "      <td>107.79</td>\n",
       "      <td>111.200</td>\n",
       "      <td>106.2900</td>\n",
       "      <td>110.97</td>\n",
       "      <td>96472580</td>\n",
       "    </tr>\n",
       "    <tr>\n",
       "      <th>2019-02-15</th>\n",
       "      <td>2019-02-15</td>\n",
       "      <td>106.20</td>\n",
       "      <td>108.300</td>\n",
       "      <td>104.9650</td>\n",
       "      <td>108.22</td>\n",
       "      <td>110757176</td>\n",
       "    </tr>\n",
       "    <tr>\n",
       "      <th>2019-02-08</th>\n",
       "      <td>2019-02-08</td>\n",
       "      <td>102.87</td>\n",
       "      <td>107.270</td>\n",
       "      <td>102.7700</td>\n",
       "      <td>105.67</td>\n",
       "      <td>130472196</td>\n",
       "    </tr>\n",
       "    <tr>\n",
       "      <th>2019-02-01</th>\n",
       "      <td>2019-02-01</td>\n",
       "      <td>106.26</td>\n",
       "      <td>106.480</td>\n",
       "      <td>102.1700</td>\n",
       "      <td>102.78</td>\n",
       "      <td>201611213</td>\n",
       "    </tr>\n",
       "  </tbody>\n",
       "</table>\n",
       "</div>"
      ],
      "text/plain": [
       "            timestamp    open     high       low   close     volume\n",
       "timestamp                                                          \n",
       "2019-04-03 2019-04-03  118.95  120.430  118.1000  119.97   63259546\n",
       "2019-03-29 2019-03-29  116.56  118.705  115.5215  117.94  119632716\n",
       "2019-03-22 2019-03-22  116.17  120.820  116.0500  117.05  160388610\n",
       "2019-03-15 2019-03-15  110.99  117.250  110.9800  115.91  173532134\n",
       "2019-03-08 2019-03-08  113.02  113.250  108.8000  110.51  111990712\n",
       "2019-03-01 2019-03-01  111.76  113.240  110.8800  112.53  119359497\n",
       "2019-02-22 2019-02-22  107.79  111.200  106.2900  110.97   96472580\n",
       "2019-02-15 2019-02-15  106.20  108.300  104.9650  108.22  110757176\n",
       "2019-02-08 2019-02-08  102.87  107.270  102.7700  105.67  130472196\n",
       "2019-02-01 2019-02-01  106.26  106.480  102.1700  102.78  201611213"
      ]
     },
     "execution_count": 5,
     "metadata": {},
     "output_type": "execute_result"
    }
   ],
   "source": [
    "# Check top 10 rows\n",
    "df.head(10)"
   ]
  },
  {
   "cell_type": "code",
   "execution_count": 6,
   "metadata": {
    "colab": {
     "base_uri": "https://localhost:8080/",
     "height": 500
    },
    "colab_type": "code",
    "id": "vDXdAvsIjMTG",
    "outputId": "152c0451-931e-4d32-ff16-7a6addfa6610"
   },
   "outputs": [
    {
     "name": "stderr",
     "output_type": "stream",
     "text": [
      "/Users/thupham/anaconda3/envs/py36/lib/python3.6/site-packages/pandas/plotting/_converter.py:129: FutureWarning: Using an implicitly registered datetime converter for a matplotlib plotting method. The converter was registered by pandas on import. Future versions of pandas will require you to explicitly register matplotlib converters.\n",
      "\n",
      "To register the converters:\n",
      "\t>>> from pandas.plotting import register_matplotlib_converters\n",
      "\t>>> register_matplotlib_converters()\n",
      "  warnings.warn(msg, FutureWarning)\n"
     ]
    },
    {
     "data": {
      "text/plain": [
       "[<matplotlib.lines.Line2D at 0x1c2e2fc0b8>]"
      ]
     },
     "execution_count": 6,
     "metadata": {},
     "output_type": "execute_result"
    },
    {
     "data": {
      "image/png": "[encoded data removed]",
      "text/plain": [
       "<Figure size 1152x576 with 1 Axes>"
      ]
     },
     "metadata": {},
     "output_type": "display_data"
    }
   ],
   "source": [
    "# Plotting closing price\n",
    "plt.figure(figsize=(16,8))\n",
    "plt.plot(df['close'])"
   ]
  },
  {
   "cell_type": "code",
   "execution_count": 7,
   "metadata": {
    "colab": {
     "base_uri": "https://localhost:8080/",
     "height": 390
    },
    "colab_type": "code",
    "id": "qTdacIM7jMS0",
    "outputId": "15e3fdff-b166-435a-de97-0b5b9b7f022e"
   },
   "outputs": [
    {
     "data": {
      "text/html": [
       "<div>\n",
       "<style scoped>\n",
       "    .dataframe tbody tr th:only-of-type {\n",
       "        vertical-align: middle;\n",
       "    }\n",
       "\n",
       "    .dataframe tbody tr th {\n",
       "        vertical-align: top;\n",
       "    }\n",
       "\n",
       "    .dataframe thead th {\n",
       "        text-align: right;\n",
       "    }\n",
       "</style>\n",
       "<table border=\"1\" class=\"dataframe\">\n",
       "  <thead>\n",
       "    <tr style=\"text-align: right;\">\n",
       "      <th></th>\n",
       "      <th>timestamp</th>\n",
       "      <th>open</th>\n",
       "      <th>high</th>\n",
       "      <th>low</th>\n",
       "      <th>close</th>\n",
       "      <th>volume</th>\n",
       "    </tr>\n",
       "    <tr>\n",
       "      <th>timestamp</th>\n",
       "      <th></th>\n",
       "      <th></th>\n",
       "      <th></th>\n",
       "      <th></th>\n",
       "      <th></th>\n",
       "      <th></th>\n",
       "    </tr>\n",
       "  </thead>\n",
       "  <tbody>\n",
       "    <tr>\n",
       "      <th>1998-03-13</th>\n",
       "      <td>1998-03-13</td>\n",
       "      <td>82.50</td>\n",
       "      <td>83.00</td>\n",
       "      <td>79.50</td>\n",
       "      <td>82.37</td>\n",
       "      <td>55001400</td>\n",
       "    </tr>\n",
       "    <tr>\n",
       "      <th>1998-03-06</th>\n",
       "      <td>1998-03-06</td>\n",
       "      <td>85.87</td>\n",
       "      <td>85.87</td>\n",
       "      <td>79.25</td>\n",
       "      <td>82.75</td>\n",
       "      <td>79005300</td>\n",
       "    </tr>\n",
       "    <tr>\n",
       "      <th>1998-02-27</th>\n",
       "      <td>1998-02-27</td>\n",
       "      <td>80.94</td>\n",
       "      <td>86.00</td>\n",
       "      <td>79.37</td>\n",
       "      <td>84.75</td>\n",
       "      <td>95642150</td>\n",
       "    </tr>\n",
       "    <tr>\n",
       "      <th>1998-02-20</th>\n",
       "      <td>1998-02-20</td>\n",
       "      <td>158.50</td>\n",
       "      <td>158.50</td>\n",
       "      <td>152.88</td>\n",
       "      <td>155.13</td>\n",
       "      <td>40268500</td>\n",
       "    </tr>\n",
       "    <tr>\n",
       "      <th>1998-02-13</th>\n",
       "      <td>1998-02-13</td>\n",
       "      <td>158.75</td>\n",
       "      <td>160.06</td>\n",
       "      <td>155.63</td>\n",
       "      <td>157.50</td>\n",
       "      <td>37262800</td>\n",
       "    </tr>\n",
       "    <tr>\n",
       "      <th>1998-02-06</th>\n",
       "      <td>1998-02-06</td>\n",
       "      <td>151.75</td>\n",
       "      <td>158.75</td>\n",
       "      <td>150.50</td>\n",
       "      <td>158.13</td>\n",
       "      <td>42349700</td>\n",
       "    </tr>\n",
       "    <tr>\n",
       "      <th>1998-01-30</th>\n",
       "      <td>1998-01-30</td>\n",
       "      <td>139.88</td>\n",
       "      <td>150.13</td>\n",
       "      <td>138.45</td>\n",
       "      <td>149.19</td>\n",
       "      <td>46856000</td>\n",
       "    </tr>\n",
       "    <tr>\n",
       "      <th>1998-01-23</th>\n",
       "      <td>1998-01-23</td>\n",
       "      <td>134.13</td>\n",
       "      <td>139.88</td>\n",
       "      <td>134.00</td>\n",
       "      <td>138.25</td>\n",
       "      <td>46621800</td>\n",
       "    </tr>\n",
       "    <tr>\n",
       "      <th>1998-01-16</th>\n",
       "      <td>1998-01-16</td>\n",
       "      <td>124.62</td>\n",
       "      <td>135.38</td>\n",
       "      <td>124.37</td>\n",
       "      <td>135.25</td>\n",
       "      <td>40459900</td>\n",
       "    </tr>\n",
       "    <tr>\n",
       "      <th>1998-01-09</th>\n",
       "      <td>1998-01-09</td>\n",
       "      <td>131.25</td>\n",
       "      <td>133.63</td>\n",
       "      <td>125.87</td>\n",
       "      <td>127.00</td>\n",
       "      <td>46857300</td>\n",
       "    </tr>\n",
       "  </tbody>\n",
       "</table>\n",
       "</div>"
      ],
      "text/plain": [
       "            timestamp    open    high     low   close    volume\n",
       "timestamp                                                      \n",
       "1998-03-13 1998-03-13   82.50   83.00   79.50   82.37  55001400\n",
       "1998-03-06 1998-03-06   85.87   85.87   79.25   82.75  79005300\n",
       "1998-02-27 1998-02-27   80.94   86.00   79.37   84.75  95642150\n",
       "1998-02-20 1998-02-20  158.50  158.50  152.88  155.13  40268500\n",
       "1998-02-13 1998-02-13  158.75  160.06  155.63  157.50  37262800\n",
       "1998-02-06 1998-02-06  151.75  158.75  150.50  158.13  42349700\n",
       "1998-01-30 1998-01-30  139.88  150.13  138.45  149.19  46856000\n",
       "1998-01-23 1998-01-23  134.13  139.88  134.00  138.25  46621800\n",
       "1998-01-16 1998-01-16  124.62  135.38  124.37  135.25  40459900\n",
       "1998-01-09 1998-01-09  131.25  133.63  125.87  127.00  46857300"
      ]
     },
     "execution_count": 7,
     "metadata": {},
     "output_type": "execute_result"
    }
   ],
   "source": [
    "# Check last 10 rows\n",
    "df.tail(10)"
   ]
  },
  {
   "cell_type": "code",
   "execution_count": 10,
   "metadata": {
    "colab": {
     "base_uri": "https://localhost:8080/",
     "height": 358
    },
    "colab_type": "code",
    "id": "8ZqVlsg0jMTO",
    "outputId": "c0302156-3d30-4abf-999f-18389b6a34b4"
   },
   "outputs": [
    {
     "data": {
      "text/plain": [
       "<matplotlib.axes._subplots.AxesSubplot at 0x101e66eb8>"
      ]
     },
     "execution_count": 10,
     "metadata": {},
     "output_type": "execute_result"
    },
    {
     "data": {
      "image/png": "[encoded data removed]",
      "text/plain": [
       "<Figure size 432x288 with 1 Axes>"
      ]
     },
     "metadata": {},
     "output_type": "display_data"
    }
   ],
   "source": [
    "# Plotting price movement\n",
    "df.plot(kind = \"line\", y = ['open', 'high', 'low','close'])"
   ]
  },
  {
   "cell_type": "markdown",
   "metadata": {
    "colab_type": "text",
    "id": "03sXxvPJjMUA"
   },
   "source": [
    "## Linear Regression"
   ]
  },
  {
   "cell_type": "code",
   "execution_count": 11,
   "metadata": {
    "colab": {},
    "colab_type": "code",
    "id": "gn4Oc8ZarGgo"
   },
   "outputs": [],
   "source": [
    "# PREPARE TRAIN SET & TEST SET\n",
    "\n",
    "# Remove other rows, keep only timestamp and close\n",
    "data = df.sort_index(ascending=True, axis=0)\n",
    "new_data = pd.DataFrame(index=range(0, len(data)), columns=['timestamp', 'close'])\n",
    "\n",
    "for i in range(0, len(data)):\n",
    "  new_data['timestamp'][i] = data['timestamp'][i]\n",
    "  new_data['close'][i] = data['close'][i]\n",
    "  \n",
    "new_data['timestamp'] = pd.to_datetime(new_data['timestamp'], format='%Y-%m-%d')\n",
    "new_data.index = new_data['timestamp']\n",
    "add_datepart(new_data, 'timestamp')\n",
    "  \n",
    "# Split dataset into test and train portion\n",
    "# 80% to train, 20% to test\n",
    "train_set_size = int(len(new_data) * 0.8)\n",
    "train_set = new_data[:train_set_size]\n",
    "test_set = new_data[train_set_size:]\n",
    "\n",
    "x_train = train_set.drop('close', axis=1)\n",
    "y_train = train_set['close']\n",
    "x_test = test_set.drop('close', axis=1)\n",
    "y_test = test_set['close']"
   ]
  },
  {
   "cell_type": "code",
   "execution_count": 12,
   "metadata": {
    "colab": {
     "base_uri": "https://localhost:8080/",
     "height": 51
    },
    "colab_type": "code",
    "id": "3wTeeziQjMUB",
    "outputId": "aba626cc-0c09-4702-d707-383ab98c12d9"
   },
   "outputs": [
    {
     "data": {
      "text/plain": [
       "LinearRegression(copy_X=True, fit_intercept=True, n_jobs=1, normalize=False)"
      ]
     },
     "execution_count": 12,
     "metadata": {},
     "output_type": "execute_result"
    }
   ],
   "source": [
    "# Implement linear regression\n",
    "linear_model = LinearRegression()\n",
    "linear_model.fit(x_train, y_train)"
   ]
  },
  {
   "cell_type": "code",
   "execution_count": 13,
   "metadata": {
    "colab": {
     "base_uri": "https://localhost:8080/",
     "height": 34
    },
    "colab_type": "code",
    "id": "MZ0ISpQEx8VG",
    "outputId": "32eba40c-0bf7-4a9a-c324-802ef1fb24f3"
   },
   "outputs": [
    {
     "data": {
      "text/plain": [
       "74.68131924529983"
      ]
     },
     "execution_count": 13,
     "metadata": {},
     "output_type": "execute_result"
    }
   ],
   "source": [
    "# Make predictions and find the rmse\n",
    "preds = linear_model.predict(x_test)\n",
    "rms = np.sqrt(np.mean(np.power((np.array(y_test)-np.array(preds)),2)))\n",
    "rms"
   ]
  },
  {
   "cell_type": "code",
   "execution_count": 14,
   "metadata": {
    "colab": {
     "base_uri": "https://localhost:8080/",
     "height": 381
    },
    "colab_type": "code",
    "id": "Rphn_b4ryAA7",
    "outputId": "b08ce2c4-4c7a-4a43-bec1-0193ea8bd9e2"
   },
   "outputs": [
    {
     "data": {
      "text/plain": [
       "[<matplotlib.lines.Line2D at 0x1c31736e10>,\n",
       " <matplotlib.lines.Line2D at 0x1c31740048>]"
      ]
     },
     "execution_count": 14,
     "metadata": {},
     "output_type": "execute_result"
    },
    {
     "data": {
      "image/png": "[encoded data removed]",
      "text/plain": [
       "<Figure size 432x288 with 1 Axes>"
      ]
     },
     "metadata": {},
     "output_type": "display_data"
    }
   ],
   "source": [
    "# Plot linear regression results\n",
    "predicted_set = test_set.copy()\n",
    "predicted_set['predictions'] = preds\n",
    "\n",
    "plt.plot(train_set['close'])\n",
    "plt.plot(predicted_set[['close', 'predictions']])"
   ]
  },
  {
   "cell_type": "markdown",
   "metadata": {
    "colab_type": "text",
    "id": "XwnDROwYjrUZ"
   },
   "source": [
    "## k-Nearest Neighbours"
   ]
  },
  {
   "cell_type": "code",
   "execution_count": 15,
   "metadata": {
    "colab": {},
    "colab_type": "code",
    "id": "HxRLDnS43C5k"
   },
   "outputs": [],
   "source": [
    "# PREPARE TRAIN SET & TEST SET\n",
    "\n",
    "# Remove other rows, keep only timestamp and close\n",
    "data = df.sort_index(ascending=True, axis=0)\n",
    "new_data = pd.DataFrame(index=range(0, len(data)), columns=['timestamp', 'close'])\n",
    "\n",
    "for i in range(0, len(data)):\n",
    "  new_data['timestamp'][i] = data['timestamp'][i]\n",
    "  new_data['close'][i] = data['close'][i]\n",
    "  \n",
    "new_data['timestamp'] = pd.to_datetime(new_data['timestamp'], format='%Y-%m-%d')\n",
    "new_data.index = new_data['timestamp']\n",
    "add_datepart(new_data, 'timestamp')\n",
    "  \n",
    "# Split dataset into test and train portion\n",
    "# 80% to train, 20% to test\n",
    "train_set_size = int(len(new_data) * 0.8)\n",
    "train_set = new_data[:train_set_size]\n",
    "test_set = new_data[train_set_size:]\n",
    "\n",
    "x_train = train_set.drop('close', axis=1)\n",
    "y_train = train_set['close']\n",
    "x_test = test_set.drop('close', axis=1)\n",
    "y_test = test_set['close']"
   ]
  },
  {
   "cell_type": "code",
   "execution_count": 16,
   "metadata": {
    "colab": {
     "base_uri": "https://localhost:8080/",
     "height": 139
    },
    "colab_type": "code",
    "id": "ruIb0FbfkPu2",
    "outputId": "39ed158d-8770-46f9-d4a7-226b0fd84217"
   },
   "outputs": [],
   "source": [
    "scaler = MinMaxScaler(feature_range=(0, 1))\n",
    "\n",
    "#scaling data\n",
    "x_train_scaled = scaler.fit_transform(x_train)\n",
    "x_train = pd.DataFrame(x_train_scaled)\n",
    "x_test_scaled = scaler.fit_transform(x_test)\n",
    "x_test = pd.DataFrame(x_test_scaled)\n",
    "\n",
    "#using gridsearch to find the best parameter\n",
    "params = {'n_neighbors':[2,3,4,5,6,7,8,9]}\n",
    "knn = neighbors.KNeighborsRegressor()\n",
    "knearest_neighbors_model = GridSearchCV(knn, params, cv=5)\n",
    "\n",
    "#fit the model and make predictions\n",
    "knearest_neighbors_model.fit(x_train,y_train)\n",
    "preds = knearest_neighbors_model.predict(x_test)"
   ]
  },
  {
   "cell_type": "code",
   "execution_count": 17,
   "metadata": {
    "colab": {
     "base_uri": "https://localhost:8080/",
     "height": 34
    },
    "colab_type": "code",
    "id": "tfKFJMiCl8SL",
    "outputId": "9d365c37-cb31-4019-d821-5604d141243d"
   },
   "outputs": [
    {
     "data": {
      "text/plain": [
       "53.51324296740889"
      ]
     },
     "execution_count": 17,
     "metadata": {},
     "output_type": "execute_result"
    }
   ],
   "source": [
    "#rmse\n",
    "rms = np.sqrt(np.mean(np.power((np.array(y_test)-np.array(preds)),2)))\n",
    "rms"
   ]
  },
  {
   "cell_type": "code",
   "execution_count": 18,
   "metadata": {
    "colab": {
     "base_uri": "https://localhost:8080/",
     "height": 381
    },
    "colab_type": "code",
    "id": "T7-kCf1hmFvK",
    "outputId": "5868c3a8-ec92-420b-a7d6-c26290bf577c"
   },
   "outputs": [
    {
     "data": {
      "text/plain": [
       "[<matplotlib.lines.Line2D at 0x1c352579b0>,\n",
       " <matplotlib.lines.Line2D at 0x1c35257ac8>]"
      ]
     },
     "execution_count": 18,
     "metadata": {},
     "output_type": "execute_result"
    },
    {
     "data": {
      "image/png": "[encoded data removed]",
      "text/plain": [
       "<Figure size 432x288 with 1 Axes>"
      ]
     },
     "metadata": {},
     "output_type": "display_data"
    }
   ],
   "source": [
    "# Plot linear regression results\n",
    "predicted_set = test_set.copy()\n",
    "predicted_set['predictions'] = preds\n",
    "\n",
    "plt.plot(train_set['close'])\n",
    "plt.plot(predicted_set[['close', 'predictions']])"
   ]
  },
  {
   "cell_type": "markdown",
   "metadata": {
    "colab_type": "text",
    "id": "Rf2g6WMToOTX"
   },
   "source": [
    "## Long Short Term Memory (LSTM)\n",
    "\n",
    "\n"
   ]
  },
  {
   "cell_type": "code",
   "execution_count": 24,
   "metadata": {
    "colab": {
     "base_uri": "https://localhost:8080/",
     "height": 122
    },
    "colab_type": "code",
    "id": "w9lnmfBFoN4f",
    "outputId": "e4dfbf78-6d09-4b2c-b762-b41fc77118c7"
   },
   "outputs": [
    {
     "name": "stderr",
     "output_type": "stream",
     "text": [
      "/Users/thupham/anaconda3/envs/py36/lib/python3.6/site-packages/sklearn/utils/validation.py:475: DataConversionWarning: Data with input dtype object was converted to float64 by MinMaxScaler.\n",
      "  warnings.warn(msg, DataConversionWarning)\n"
     ]
    },
    {
     "name": "stdout",
     "output_type": "stream",
     "text": [
      "Epoch 1/5\n",
      " - 46s - loss: 0.0034\n",
      "Epoch 2/5\n",
      " - 47s - loss: 0.0022\n",
      "Epoch 3/5\n",
      " - 46s - loss: 0.0018\n",
      "Epoch 4/5\n",
      " - 46s - loss: 0.0013\n",
      "Epoch 5/5\n",
      " - 49s - loss: 0.0012\n"
     ]
    }
   ],
   "source": [
    "# Creating dataframe\n",
    "data = df.sort_index(ascending=True, axis=0)\n",
    "new_data = pd.DataFrame(index=range(0,len(df)),columns=['timestamp', 'close'])\n",
    "for i in range(0,len(data)):\n",
    "    new_data['timestamp'][i] = data['timestamp'][i]\n",
    "    new_data['close'][i] = data['close'][i]\n",
    "\n",
    "# Setting index\n",
    "new_data.index = new_data['timestamp']\n",
    "new_data.drop('timestamp', axis=1, inplace=True)\n",
    "\n",
    "# Creating train and test sets\n",
    "dataset = new_data.values\n",
    "train_set_size = int(len(new_data) * 0.8)\n",
    "\n",
    "train = dataset[0:train_set_size,:]\n",
    "valid = dataset[train_set_size:,:]\n",
    "\n",
    "# Converting dataset into x_train and y_train\n",
    "scaler = MinMaxScaler(feature_range=(0, 1))\n",
    "scaled_data = scaler.fit_transform(dataset)\n",
    "\n",
    "x_train, y_train = [], []\n",
    "for i in range(60,len(train)):\n",
    "    x_train.append(scaled_data[i-60:i,0])\n",
    "    y_train.append(scaled_data[i,0])\n",
    "x_train, y_train = np.array(x_train), np.array(y_train)\n",
    "\n",
    "x_train = np.reshape(x_train, (x_train.shape[0],x_train.shape[1],1))\n",
    "\n",
    "# create and fit the LSTM network\n",
    "model = Sequential()\n",
    "model.add(LSTM(units=50, return_sequences=True, input_shape=(x_train.shape[1],1)))\n",
    "model.add(LSTM(units=50))\n",
    "model.add(Dense(1))\n",
    "\n",
    "model.compile(loss='mean_squared_error', optimizer='adam')\n",
    "model.fit(x_train, y_train, epochs=5, batch_size=1, verbose=2)\n",
    "\n",
    "# predicting the test data, using past 60 from the train data\n",
    "inputs = new_data[len(new_data) - len(valid) - 60:].values\n",
    "inputs = inputs.reshape(-1,1)\n",
    "inputs  = scaler.transform(inputs)\n",
    "\n",
    "X_test = []\n",
    "for i in range(60,inputs.shape[0]):\n",
    "    X_test.append(inputs[i-60:i,0])\n",
    "X_test = np.array(X_test)\n",
    "\n",
    "X_test = np.reshape(X_test, (X_test.shape[0],X_test.shape[1],1))\n",
    "closing_price = model.predict(X_test)\n",
    "closing_price = scaler.inverse_transform(closing_price)"
   ]
  },
  {
   "cell_type": "code",
   "execution_count": 25,
   "metadata": {
    "colab": {
     "base_uri": "https://localhost:8080/",
     "height": 34
    },
    "colab_type": "code",
    "id": "yYVRz-l22jxa",
    "outputId": "8a9bca29-0d8d-40fe-968e-efbc9cf5e6a5"
   },
   "outputs": [
    {
     "data": {
      "text/plain": [
       "2.9097031501393156"
      ]
     },
     "execution_count": 25,
     "metadata": {},
     "output_type": "execute_result"
    }
   ],
   "source": [
    "rms=np.sqrt(np.mean(np.power((valid-closing_price),2)))\n",
    "rms"
   ]
  },
  {
   "cell_type": "code",
   "execution_count": 26,
   "metadata": {
    "colab": {
     "base_uri": "https://localhost:8080/",
     "height": 483
    },
    "colab_type": "code",
    "id": "be9yGG002nL8",
    "outputId": "fa842c0a-7395-4e05-83fc-fc0d32387c62"
   },
   "outputs": [
    {
     "name": "stderr",
     "output_type": "stream",
     "text": [
      "/Users/thupham/anaconda3/envs/py36/lib/python3.6/site-packages/ipykernel_launcher.py:5: SettingWithCopyWarning: \n",
      "A value is trying to be set on a copy of a slice from a DataFrame.\n",
      "Try using .loc[row_indexer,col_indexer] = value instead\n",
      "\n",
      "See the caveats in the documentation: http://pandas.pydata.org/pandas-docs/stable/indexing.html#indexing-view-versus-copy\n",
      "  \"\"\"\n"
     ]
    },
    {
     "data": {
      "text/plain": [
       "[<matplotlib.lines.Line2D at 0x1c397a67b8>,\n",
       " <matplotlib.lines.Line2D at 0x1c397a6978>]"
      ]
     },
     "execution_count": 26,
     "metadata": {},
     "output_type": "execute_result"
    },
    {
     "data": {
      "image/png": "[encoded data removed]",
      "text/plain": [
       "<Figure size 432x288 with 1 Axes>"
      ]
     },
     "metadata": {},
     "output_type": "display_data"
    }
   ],
   "source": [
    "#for plotting\n",
    "train_set_size = int(len(new_data) * 0.8)\n",
    "train = new_data[:train_set_size]\n",
    "valid = new_data[train_set_size:]\n",
    "valid['predictions'] = closing_price\n",
    "plt.plot(train['close'])\n",
    "plt.plot(valid[['close','predictions']])"
   ]
  },
  {
   "cell_type": "code",
   "execution_count": 27,
   "metadata": {},
   "outputs": [],
   "source": [
    "from sklearn.svm import SVR\n",
    "\n",
    "def predict_prices(dates, prices, x):\n",
    "    dates = np.reshape(dates, (len(dates), 1))\n",
    "    svr_lin = SVR(kernel='linear', C=1e3).fit(dates,prices)\n",
    "    svr_lin.fit(dates, prices)    \n",
    "\n",
    "    \n",
    "    plt.scatter(dates, prices, color='black', label = 'data')\n",
    "    plt.plot(dates, svr_lin.predict(dates), color= 'green', label ='linear model')\n",
    "    plt.xlabel('Dates')\n",
    "    plt.ylabel('Price')\n",
    "    plt.title('Support Vector Regresion')\n",
    "    plt.show()\n",
    "    return svr_lin.predict(x)[0]\n"
   ]
  },
  {
   "cell_type": "code",
   "execution_count": null,
   "metadata": {},
   "outputs": [],
   "source": []
  },
  {
   "cell_type": "code",
   "execution_count": null,
   "metadata": {},
   "outputs": [],
   "source": [
    "\n"
   ]
  }
 ],
 "metadata": {
  "colab": {
   "name": "Copy of Stock Forecasting.ipynb",
   "provenance": [],
   "version": "0.3.2"
  },
  "kernelspec": {
   "display_name": "Python 2",
   "language": "python",
   "name": "python2"
  },
  "language_info": {
   "codemirror_mode": {
    "name": "ipython",
    "version": 3
   },
   "file_extension": ".py",
   "mimetype": "text/x-python",
   "name": "python",
   "nbconvert_exporter": "python",
   "pygments_lexer": "ipython3",
   "version": "3.7.3"
  }
 },
 "nbformat": 4,
 "nbformat_minor": 1
}
