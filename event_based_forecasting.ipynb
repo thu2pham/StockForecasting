{
 "cells": [
  {
   "cell_type": "code",
   "execution_count": 124,
   "metadata": {},
   "outputs": [],
   "source": [
    "# Import\n",
    "import math\n",
    "import matplotlib.pyplot as plt\n",
    "import seaborn as sns\n",
    "import pandas as pd\n",
    "import numpy as np\n",
    "# from fastai.structured import add_datepart\n",
    "\n",
    "# Linear Regression\n",
    "from sklearn.linear_model import LogisticRegression"
   ]
  },
  {
   "cell_type": "markdown",
   "metadata": {},
   "source": [
    "# Data Collecting"
   ]
  },
  {
   "cell_type": "code",
   "execution_count": 125,
   "metadata": {},
   "outputs": [
    {
     "data": {
      "text/plain": [
       "<function print>"
      ]
     },
     "execution_count": 125,
     "metadata": {},
     "output_type": "execute_result"
    }
   ],
   "source": [
    "# Config\n",
    "symbl = 'MSFT'\n",
    "apiKey = ''\n",
    "\n",
    "# Fetch Historical Data\n",
    "# df = pd.read_csv('https://www.alphavantage.co/query?datatype=csv&function=TIME_SERIES_MONTHLY&symbol=' + symbl + '&outputsize=compact&apikey=' + apiKey)\n",
    "\n",
    "# Use local data\n",
    "df = pd.read_csv('data/monthly_MSFT.csv')\n",
    "\n",
    "# Setting index as date\n",
    "df['timestamp'] = pd.to_datetime(df.timestamp, format='%Y-%m-%d')\n",
    "df.index = df['timestamp']\n",
    "\n",
    "print"
   ]
  },
  {
   "cell_type": "markdown",
   "metadata": {},
   "source": [
    "# Data Overview"
   ]
  },
  {
   "cell_type": "code",
   "execution_count": 126,
   "metadata": {},
   "outputs": [
    {
     "data": {
      "text/html": [
       "<div>\n",
       "<style scoped>\n",
       "    .dataframe tbody tr th:only-of-type {\n",
       "        vertical-align: middle;\n",
       "    }\n",
       "\n",
       "    .dataframe tbody tr th {\n",
       "        vertical-align: top;\n",
       "    }\n",
       "\n",
       "    .dataframe thead th {\n",
       "        text-align: right;\n",
       "    }\n",
       "</style>\n",
       "<table border=\"1\" class=\"dataframe\">\n",
       "  <thead>\n",
       "    <tr style=\"text-align: right;\">\n",
       "      <th></th>\n",
       "      <th>open</th>\n",
       "      <th>high</th>\n",
       "      <th>low</th>\n",
       "      <th>close</th>\n",
       "      <th>volume</th>\n",
       "    </tr>\n",
       "  </thead>\n",
       "  <tbody>\n",
       "    <tr>\n",
       "      <th>count</th>\n",
       "      <td>256.000000</td>\n",
       "      <td>256.000000</td>\n",
       "      <td>256.000000</td>\n",
       "      <td>256.000000</td>\n",
       "      <td>2.560000e+02</td>\n",
       "    </tr>\n",
       "    <tr>\n",
       "      <th>mean</th>\n",
       "      <td>49.753136</td>\n",
       "      <td>53.349432</td>\n",
       "      <td>46.189302</td>\n",
       "      <td>49.653671</td>\n",
       "      <td>9.900380e+08</td>\n",
       "    </tr>\n",
       "    <tr>\n",
       "      <th>std</th>\n",
       "      <td>29.927316</td>\n",
       "      <td>33.005746</td>\n",
       "      <td>26.658620</td>\n",
       "      <td>29.682854</td>\n",
       "      <td>4.361976e+08</td>\n",
       "    </tr>\n",
       "    <tr>\n",
       "      <th>min</th>\n",
       "      <td>16.035000</td>\n",
       "      <td>18.880000</td>\n",
       "      <td>14.870000</td>\n",
       "      <td>16.150000</td>\n",
       "      <td>2.155232e+08</td>\n",
       "    </tr>\n",
       "    <tr>\n",
       "      <th>25%</th>\n",
       "      <td>27.235000</td>\n",
       "      <td>28.215000</td>\n",
       "      <td>25.855000</td>\n",
       "      <td>27.117425</td>\n",
       "      <td>6.457838e+08</td>\n",
       "    </tr>\n",
       "    <tr>\n",
       "      <th>50%</th>\n",
       "      <td>36.160000</td>\n",
       "      <td>37.695000</td>\n",
       "      <td>32.740000</td>\n",
       "      <td>36.205000</td>\n",
       "      <td>9.474929e+08</td>\n",
       "    </tr>\n",
       "    <tr>\n",
       "      <th>75%</th>\n",
       "      <td>64.358750</td>\n",
       "      <td>69.947500</td>\n",
       "      <td>60.617500</td>\n",
       "      <td>64.320000</td>\n",
       "      <td>1.301201e+09</td>\n",
       "    </tr>\n",
       "    <tr>\n",
       "      <th>max</th>\n",
       "      <td>175.440000</td>\n",
       "      <td>180.380000</td>\n",
       "      <td>143.980000</td>\n",
       "      <td>175.000000</td>\n",
       "      <td>3.044579e+09</td>\n",
       "    </tr>\n",
       "  </tbody>\n",
       "</table>\n",
       "</div>"
      ],
      "text/plain": [
       "             open        high         low       close        volume\n",
       "count  256.000000  256.000000  256.000000  256.000000  2.560000e+02\n",
       "mean    49.753136   53.349432   46.189302   49.653671  9.900380e+08\n",
       "std     29.927316   33.005746   26.658620   29.682854  4.361976e+08\n",
       "min     16.035000   18.880000   14.870000   16.150000  2.155232e+08\n",
       "25%     27.235000   28.215000   25.855000   27.117425  6.457838e+08\n",
       "50%     36.160000   37.695000   32.740000   36.205000  9.474929e+08\n",
       "75%     64.358750   69.947500   60.617500   64.320000  1.301201e+09\n",
       "max    175.440000  180.380000  143.980000  175.000000  3.044579e+09"
      ]
     },
     "execution_count": 126,
     "metadata": {},
     "output_type": "execute_result"
    }
   ],
   "source": [
    "# Get general statistics\n",
    "df.describe()"
   ]
  },
  {
   "cell_type": "code",
   "execution_count": 127,
   "metadata": {},
   "outputs": [
    {
     "data": {
      "text/plain": [
       "timestamp    datetime64[ns]\n",
       "open                float64\n",
       "high                float64\n",
       "low                 float64\n",
       "close               float64\n",
       "volume                int64\n",
       "dtype: object"
      ]
     },
     "execution_count": 127,
     "metadata": {},
     "output_type": "execute_result"
    }
   ],
   "source": [
    "# Get data types\n",
    "df.dtypes"
   ]
  },
  {
   "cell_type": "code",
   "execution_count": 128,
   "metadata": {},
   "outputs": [
    {
     "data": {
      "text/html": [
       "<div>\n",
       "<style scoped>\n",
       "    .dataframe tbody tr th:only-of-type {\n",
       "        vertical-align: middle;\n",
       "    }\n",
       "\n",
       "    .dataframe tbody tr th {\n",
       "        vertical-align: top;\n",
       "    }\n",
       "\n",
       "    .dataframe thead th {\n",
       "        text-align: right;\n",
       "    }\n",
       "</style>\n",
       "<table border=\"1\" class=\"dataframe\">\n",
       "  <thead>\n",
       "    <tr style=\"text-align: right;\">\n",
       "      <th></th>\n",
       "      <th>timestamp</th>\n",
       "      <th>open</th>\n",
       "      <th>high</th>\n",
       "      <th>low</th>\n",
       "      <th>close</th>\n",
       "      <th>volume</th>\n",
       "    </tr>\n",
       "    <tr>\n",
       "      <th>timestamp</th>\n",
       "      <th></th>\n",
       "      <th></th>\n",
       "      <th></th>\n",
       "      <th></th>\n",
       "      <th></th>\n",
       "      <th></th>\n",
       "    </tr>\n",
       "  </thead>\n",
       "  <tbody>\n",
       "    <tr>\n",
       "      <th>2019-05-14</th>\n",
       "      <td>2019-05-14</td>\n",
       "      <td>130.530</td>\n",
       "      <td>130.650</td>\n",
       "      <td>123.0400</td>\n",
       "      <td>124.73</td>\n",
       "      <td>285095390</td>\n",
       "    </tr>\n",
       "    <tr>\n",
       "      <th>2019-04-30</th>\n",
       "      <td>2019-04-30</td>\n",
       "      <td>118.950</td>\n",
       "      <td>131.370</td>\n",
       "      <td>118.1000</td>\n",
       "      <td>130.60</td>\n",
       "      <td>433157868</td>\n",
       "    </tr>\n",
       "    <tr>\n",
       "      <th>2019-03-29</th>\n",
       "      <td>2019-03-29</td>\n",
       "      <td>112.890</td>\n",
       "      <td>120.820</td>\n",
       "      <td>108.8000</td>\n",
       "      <td>117.94</td>\n",
       "      <td>589045341</td>\n",
       "    </tr>\n",
       "    <tr>\n",
       "      <th>2019-02-28</th>\n",
       "      <td>2019-02-28</td>\n",
       "      <td>103.775</td>\n",
       "      <td>113.240</td>\n",
       "      <td>102.3500</td>\n",
       "      <td>112.03</td>\n",
       "      <td>469095970</td>\n",
       "    </tr>\n",
       "    <tr>\n",
       "      <th>2019-01-31</th>\n",
       "      <td>2019-01-31</td>\n",
       "      <td>99.550</td>\n",
       "      <td>107.900</td>\n",
       "      <td>97.2000</td>\n",
       "      <td>104.43</td>\n",
       "      <td>714204787</td>\n",
       "    </tr>\n",
       "    <tr>\n",
       "      <th>2018-12-31</th>\n",
       "      <td>2018-12-31</td>\n",
       "      <td>113.000</td>\n",
       "      <td>113.420</td>\n",
       "      <td>93.9600</td>\n",
       "      <td>101.57</td>\n",
       "      <td>944287635</td>\n",
       "    </tr>\n",
       "    <tr>\n",
       "      <th>2018-11-30</th>\n",
       "      <td>2018-11-30</td>\n",
       "      <td>107.050</td>\n",
       "      <td>112.240</td>\n",
       "      <td>99.3528</td>\n",
       "      <td>110.89</td>\n",
       "      <td>720228643</td>\n",
       "    </tr>\n",
       "    <tr>\n",
       "      <th>2018-10-31</th>\n",
       "      <td>2018-10-31</td>\n",
       "      <td>114.750</td>\n",
       "      <td>116.180</td>\n",
       "      <td>100.1100</td>\n",
       "      <td>106.81</td>\n",
       "      <td>927547942</td>\n",
       "    </tr>\n",
       "    <tr>\n",
       "      <th>2018-09-28</th>\n",
       "      <td>2018-09-28</td>\n",
       "      <td>110.850</td>\n",
       "      <td>115.290</td>\n",
       "      <td>107.2300</td>\n",
       "      <td>114.37</td>\n",
       "      <td>480255674</td>\n",
       "    </tr>\n",
       "    <tr>\n",
       "      <th>2018-08-31</th>\n",
       "      <td>2018-08-31</td>\n",
       "      <td>106.030</td>\n",
       "      <td>112.777</td>\n",
       "      <td>104.8400</td>\n",
       "      <td>112.33</td>\n",
       "      <td>456630721</td>\n",
       "    </tr>\n",
       "  </tbody>\n",
       "</table>\n",
       "</div>"
      ],
      "text/plain": [
       "            timestamp     open     high       low   close     volume\n",
       "timestamp                                                           \n",
       "2019-05-14 2019-05-14  130.530  130.650  123.0400  124.73  285095390\n",
       "2019-04-30 2019-04-30  118.950  131.370  118.1000  130.60  433157868\n",
       "2019-03-29 2019-03-29  112.890  120.820  108.8000  117.94  589045341\n",
       "2019-02-28 2019-02-28  103.775  113.240  102.3500  112.03  469095970\n",
       "2019-01-31 2019-01-31   99.550  107.900   97.2000  104.43  714204787\n",
       "2018-12-31 2018-12-31  113.000  113.420   93.9600  101.57  944287635\n",
       "2018-11-30 2018-11-30  107.050  112.240   99.3528  110.89  720228643\n",
       "2018-10-31 2018-10-31  114.750  116.180  100.1100  106.81  927547942\n",
       "2018-09-28 2018-09-28  110.850  115.290  107.2300  114.37  480255674\n",
       "2018-08-31 2018-08-31  106.030  112.777  104.8400  112.33  456630721"
      ]
     },
     "execution_count": 128,
     "metadata": {},
     "output_type": "execute_result"
    }
   ],
   "source": [
    "# Check top 10 rows\n",
    "df.head(10)"
   ]
  },
  {
   "cell_type": "code",
   "execution_count": 129,
   "metadata": {},
   "outputs": [
    {
     "data": {
      "text/html": [
       "<div>\n",
       "<style scoped>\n",
       "    .dataframe tbody tr th:only-of-type {\n",
       "        vertical-align: middle;\n",
       "    }\n",
       "\n",
       "    .dataframe tbody tr th {\n",
       "        vertical-align: top;\n",
       "    }\n",
       "\n",
       "    .dataframe thead th {\n",
       "        text-align: right;\n",
       "    }\n",
       "</style>\n",
       "<table border=\"1\" class=\"dataframe\">\n",
       "  <thead>\n",
       "    <tr style=\"text-align: right;\">\n",
       "      <th></th>\n",
       "      <th>timestamp</th>\n",
       "      <th>open</th>\n",
       "      <th>high</th>\n",
       "      <th>low</th>\n",
       "      <th>close</th>\n",
       "      <th>volume</th>\n",
       "    </tr>\n",
       "    <tr>\n",
       "      <th>timestamp</th>\n",
       "      <th></th>\n",
       "      <th></th>\n",
       "      <th></th>\n",
       "      <th></th>\n",
       "      <th></th>\n",
       "      <th></th>\n",
       "    </tr>\n",
       "  </thead>\n",
       "  <tbody>\n",
       "    <tr>\n",
       "      <th>1998-11-30</th>\n",
       "      <td>1998-11-30</td>\n",
       "      <td>106.37</td>\n",
       "      <td>130.27</td>\n",
       "      <td>104.75</td>\n",
       "      <td>122.00</td>\n",
       "      <td>290676700</td>\n",
       "    </tr>\n",
       "    <tr>\n",
       "      <th>1998-10-30</th>\n",
       "      <td>1998-10-30</td>\n",
       "      <td>108.06</td>\n",
       "      <td>110.12</td>\n",
       "      <td>87.75</td>\n",
       "      <td>105.87</td>\n",
       "      <td>410762300</td>\n",
       "    </tr>\n",
       "    <tr>\n",
       "      <th>1998-09-30</th>\n",
       "      <td>1998-09-30</td>\n",
       "      <td>95.25</td>\n",
       "      <td>114.62</td>\n",
       "      <td>94.50</td>\n",
       "      <td>110.06</td>\n",
       "      <td>298081100</td>\n",
       "    </tr>\n",
       "    <tr>\n",
       "      <th>1998-08-31</th>\n",
       "      <td>1998-08-31</td>\n",
       "      <td>109.12</td>\n",
       "      <td>113.75</td>\n",
       "      <td>95.75</td>\n",
       "      <td>95.94</td>\n",
       "      <td>337509900</td>\n",
       "    </tr>\n",
       "    <tr>\n",
       "      <th>1998-07-31</th>\n",
       "      <td>1998-07-31</td>\n",
       "      <td>109.12</td>\n",
       "      <td>119.62</td>\n",
       "      <td>105.37</td>\n",
       "      <td>109.94</td>\n",
       "      <td>307324500</td>\n",
       "    </tr>\n",
       "    <tr>\n",
       "      <th>1998-06-30</th>\n",
       "      <td>1998-06-30</td>\n",
       "      <td>83.87</td>\n",
       "      <td>108.56</td>\n",
       "      <td>83.12</td>\n",
       "      <td>108.37</td>\n",
       "      <td>308288100</td>\n",
       "    </tr>\n",
       "    <tr>\n",
       "      <th>1998-05-29</th>\n",
       "      <td>1998-05-29</td>\n",
       "      <td>90.19</td>\n",
       "      <td>91.00</td>\n",
       "      <td>81.87</td>\n",
       "      <td>84.81</td>\n",
       "      <td>273845600</td>\n",
       "    </tr>\n",
       "    <tr>\n",
       "      <th>1998-04-30</th>\n",
       "      <td>1998-04-30</td>\n",
       "      <td>89.81</td>\n",
       "      <td>99.12</td>\n",
       "      <td>86.62</td>\n",
       "      <td>90.12</td>\n",
       "      <td>254744300</td>\n",
       "    </tr>\n",
       "    <tr>\n",
       "      <th>1998-03-31</th>\n",
       "      <td>1998-03-31</td>\n",
       "      <td>85.87</td>\n",
       "      <td>90.94</td>\n",
       "      <td>79.25</td>\n",
       "      <td>89.50</td>\n",
       "      <td>274981900</td>\n",
       "    </tr>\n",
       "    <tr>\n",
       "      <th>1998-02-27</th>\n",
       "      <td>1998-02-27</td>\n",
       "      <td>151.75</td>\n",
       "      <td>160.06</td>\n",
       "      <td>79.37</td>\n",
       "      <td>84.75</td>\n",
       "      <td>215523150</td>\n",
       "    </tr>\n",
       "  </tbody>\n",
       "</table>\n",
       "</div>"
      ],
      "text/plain": [
       "            timestamp    open    high     low   close     volume\n",
       "timestamp                                                       \n",
       "1998-11-30 1998-11-30  106.37  130.27  104.75  122.00  290676700\n",
       "1998-10-30 1998-10-30  108.06  110.12   87.75  105.87  410762300\n",
       "1998-09-30 1998-09-30   95.25  114.62   94.50  110.06  298081100\n",
       "1998-08-31 1998-08-31  109.12  113.75   95.75   95.94  337509900\n",
       "1998-07-31 1998-07-31  109.12  119.62  105.37  109.94  307324500\n",
       "1998-06-30 1998-06-30   83.87  108.56   83.12  108.37  308288100\n",
       "1998-05-29 1998-05-29   90.19   91.00   81.87   84.81  273845600\n",
       "1998-04-30 1998-04-30   89.81   99.12   86.62   90.12  254744300\n",
       "1998-03-31 1998-03-31   85.87   90.94   79.25   89.50  274981900\n",
       "1998-02-27 1998-02-27  151.75  160.06   79.37   84.75  215523150"
      ]
     },
     "execution_count": 129,
     "metadata": {},
     "output_type": "execute_result"
    }
   ],
   "source": [
    "# Check last 10 rows\n",
    "df.tail(10)"
   ]
  },
  {
   "cell_type": "markdown",
   "metadata": {},
   "source": [
    "## Convert closing price to trading action"
   ]
  },
  {
   "cell_type": "code",
   "execution_count": 130,
   "metadata": {},
   "outputs": [
    {
     "data": {
      "text/html": [
       "<div>\n",
       "<style scoped>\n",
       "    .dataframe tbody tr th:only-of-type {\n",
       "        vertical-align: middle;\n",
       "    }\n",
       "\n",
       "    .dataframe tbody tr th {\n",
       "        vertical-align: top;\n",
       "    }\n",
       "\n",
       "    .dataframe thead th {\n",
       "        text-align: right;\n",
       "    }\n",
       "</style>\n",
       "<table border=\"1\" class=\"dataframe\">\n",
       "  <thead>\n",
       "    <tr style=\"text-align: right;\">\n",
       "      <th></th>\n",
       "      <th>timestamp</th>\n",
       "      <th>open</th>\n",
       "      <th>high</th>\n",
       "      <th>low</th>\n",
       "      <th>close</th>\n",
       "      <th>volume</th>\n",
       "      <th>prev_close</th>\n",
       "      <th>action</th>\n",
       "    </tr>\n",
       "    <tr>\n",
       "      <th>timestamp</th>\n",
       "      <th></th>\n",
       "      <th></th>\n",
       "      <th></th>\n",
       "      <th></th>\n",
       "      <th></th>\n",
       "      <th></th>\n",
       "      <th></th>\n",
       "      <th></th>\n",
       "    </tr>\n",
       "  </thead>\n",
       "  <tbody>\n",
       "    <tr>\n",
       "      <th>2019-05-14</th>\n",
       "      <td>2019-05-14</td>\n",
       "      <td>130.530</td>\n",
       "      <td>130.650</td>\n",
       "      <td>123.0400</td>\n",
       "      <td>124.73</td>\n",
       "      <td>285095390</td>\n",
       "      <td>130.60</td>\n",
       "      <td>0.0</td>\n",
       "    </tr>\n",
       "    <tr>\n",
       "      <th>2019-04-30</th>\n",
       "      <td>2019-04-30</td>\n",
       "      <td>118.950</td>\n",
       "      <td>131.370</td>\n",
       "      <td>118.1000</td>\n",
       "      <td>130.60</td>\n",
       "      <td>433157868</td>\n",
       "      <td>117.94</td>\n",
       "      <td>1.0</td>\n",
       "    </tr>\n",
       "    <tr>\n",
       "      <th>2019-03-29</th>\n",
       "      <td>2019-03-29</td>\n",
       "      <td>112.890</td>\n",
       "      <td>120.820</td>\n",
       "      <td>108.8000</td>\n",
       "      <td>117.94</td>\n",
       "      <td>589045341</td>\n",
       "      <td>112.03</td>\n",
       "      <td>1.0</td>\n",
       "    </tr>\n",
       "    <tr>\n",
       "      <th>2019-02-28</th>\n",
       "      <td>2019-02-28</td>\n",
       "      <td>103.775</td>\n",
       "      <td>113.240</td>\n",
       "      <td>102.3500</td>\n",
       "      <td>112.03</td>\n",
       "      <td>469095970</td>\n",
       "      <td>104.43</td>\n",
       "      <td>1.0</td>\n",
       "    </tr>\n",
       "    <tr>\n",
       "      <th>2019-01-31</th>\n",
       "      <td>2019-01-31</td>\n",
       "      <td>99.550</td>\n",
       "      <td>107.900</td>\n",
       "      <td>97.2000</td>\n",
       "      <td>104.43</td>\n",
       "      <td>714204787</td>\n",
       "      <td>101.57</td>\n",
       "      <td>1.0</td>\n",
       "    </tr>\n",
       "    <tr>\n",
       "      <th>2018-12-31</th>\n",
       "      <td>2018-12-31</td>\n",
       "      <td>113.000</td>\n",
       "      <td>113.420</td>\n",
       "      <td>93.9600</td>\n",
       "      <td>101.57</td>\n",
       "      <td>944287635</td>\n",
       "      <td>110.89</td>\n",
       "      <td>0.0</td>\n",
       "    </tr>\n",
       "    <tr>\n",
       "      <th>2018-11-30</th>\n",
       "      <td>2018-11-30</td>\n",
       "      <td>107.050</td>\n",
       "      <td>112.240</td>\n",
       "      <td>99.3528</td>\n",
       "      <td>110.89</td>\n",
       "      <td>720228643</td>\n",
       "      <td>106.81</td>\n",
       "      <td>1.0</td>\n",
       "    </tr>\n",
       "    <tr>\n",
       "      <th>2018-10-31</th>\n",
       "      <td>2018-10-31</td>\n",
       "      <td>114.750</td>\n",
       "      <td>116.180</td>\n",
       "      <td>100.1100</td>\n",
       "      <td>106.81</td>\n",
       "      <td>927547942</td>\n",
       "      <td>114.37</td>\n",
       "      <td>0.0</td>\n",
       "    </tr>\n",
       "    <tr>\n",
       "      <th>2018-09-28</th>\n",
       "      <td>2018-09-28</td>\n",
       "      <td>110.850</td>\n",
       "      <td>115.290</td>\n",
       "      <td>107.2300</td>\n",
       "      <td>114.37</td>\n",
       "      <td>480255674</td>\n",
       "      <td>112.33</td>\n",
       "      <td>0.0</td>\n",
       "    </tr>\n",
       "    <tr>\n",
       "      <th>2018-08-31</th>\n",
       "      <td>2018-08-31</td>\n",
       "      <td>106.030</td>\n",
       "      <td>112.777</td>\n",
       "      <td>104.8400</td>\n",
       "      <td>112.33</td>\n",
       "      <td>456630721</td>\n",
       "      <td>106.08</td>\n",
       "      <td>1.0</td>\n",
       "    </tr>\n",
       "  </tbody>\n",
       "</table>\n",
       "</div>"
      ],
      "text/plain": [
       "            timestamp     open     high       low   close     volume  \\\n",
       "timestamp                                                              \n",
       "2019-05-14 2019-05-14  130.530  130.650  123.0400  124.73  285095390   \n",
       "2019-04-30 2019-04-30  118.950  131.370  118.1000  130.60  433157868   \n",
       "2019-03-29 2019-03-29  112.890  120.820  108.8000  117.94  589045341   \n",
       "2019-02-28 2019-02-28  103.775  113.240  102.3500  112.03  469095970   \n",
       "2019-01-31 2019-01-31   99.550  107.900   97.2000  104.43  714204787   \n",
       "2018-12-31 2018-12-31  113.000  113.420   93.9600  101.57  944287635   \n",
       "2018-11-30 2018-11-30  107.050  112.240   99.3528  110.89  720228643   \n",
       "2018-10-31 2018-10-31  114.750  116.180  100.1100  106.81  927547942   \n",
       "2018-09-28 2018-09-28  110.850  115.290  107.2300  114.37  480255674   \n",
       "2018-08-31 2018-08-31  106.030  112.777  104.8400  112.33  456630721   \n",
       "\n",
       "            prev_close  action  \n",
       "timestamp                       \n",
       "2019-05-14      130.60     0.0  \n",
       "2019-04-30      117.94     1.0  \n",
       "2019-03-29      112.03     1.0  \n",
       "2019-02-28      104.43     1.0  \n",
       "2019-01-31      101.57     1.0  \n",
       "2018-12-31      110.89     0.0  \n",
       "2018-11-30      106.81     1.0  \n",
       "2018-10-31      114.37     0.0  \n",
       "2018-09-28      112.33     0.0  \n",
       "2018-08-31      106.08     1.0  "
      ]
     },
     "execution_count": 130,
     "metadata": {},
     "output_type": "execute_result"
    }
   ],
   "source": [
    "# Expected Return\n",
    "# expectedReturn = 0 # Long if the stock price stays the same or increases\n",
    "expectedReturn = 0.025 # Long if the stock price increases by 2.5%\n",
    "\n",
    "df['prev_close'] = df['close'].shift(-1)\n",
    "\n",
    "df['action'] = np.nan \n",
    "\n",
    "for i, row in df.iterrows():\n",
    "    realReturn = (df.loc[i, 'close'] / df.loc[i, 'prev_close']) - 1\n",
    "    df.loc[i, 'action'] = 1 if (realReturn >= expectedReturn) else 0 # 1 = Long / 0 = Short\n",
    "\n",
    "\n",
    "df.head(10)"
   ]
  },
  {
   "cell_type": "markdown",
   "metadata": {},
   "source": [
    "## Prepare data to merge with sentimental analysis"
   ]
  },
  {
   "cell_type": "code",
   "execution_count": 131,
   "metadata": {},
   "outputs": [],
   "source": [
    "cropped_df = df[(df['timestamp'].dt.year >= 2000)]"
   ]
  },
  {
   "cell_type": "code",
   "execution_count": 132,
   "metadata": {},
   "outputs": [
    {
     "data": {
      "text/html": [
       "<div>\n",
       "<style scoped>\n",
       "    .dataframe tbody tr th:only-of-type {\n",
       "        vertical-align: middle;\n",
       "    }\n",
       "\n",
       "    .dataframe tbody tr th {\n",
       "        vertical-align: top;\n",
       "    }\n",
       "\n",
       "    .dataframe thead th {\n",
       "        text-align: right;\n",
       "    }\n",
       "</style>\n",
       "<table border=\"1\" class=\"dataframe\">\n",
       "  <thead>\n",
       "    <tr style=\"text-align: right;\">\n",
       "      <th></th>\n",
       "      <th>timestamp</th>\n",
       "      <th>open</th>\n",
       "      <th>high</th>\n",
       "      <th>low</th>\n",
       "      <th>close</th>\n",
       "      <th>volume</th>\n",
       "      <th>prev_close</th>\n",
       "      <th>action</th>\n",
       "    </tr>\n",
       "    <tr>\n",
       "      <th>timestamp</th>\n",
       "      <th></th>\n",
       "      <th></th>\n",
       "      <th></th>\n",
       "      <th></th>\n",
       "      <th></th>\n",
       "      <th></th>\n",
       "      <th></th>\n",
       "      <th></th>\n",
       "    </tr>\n",
       "  </thead>\n",
       "  <tbody>\n",
       "    <tr>\n",
       "      <th>2000-10-31</th>\n",
       "      <td>2000-10-31</td>\n",
       "      <td>60.50</td>\n",
       "      <td>70.12</td>\n",
       "      <td>48.44</td>\n",
       "      <td>68.87</td>\n",
       "      <td>1234707800</td>\n",
       "      <td>60.31</td>\n",
       "      <td>1.0</td>\n",
       "    </tr>\n",
       "    <tr>\n",
       "      <th>2000-09-29</th>\n",
       "      <td>2000-09-29</td>\n",
       "      <td>70.00</td>\n",
       "      <td>72.06</td>\n",
       "      <td>58.63</td>\n",
       "      <td>60.31</td>\n",
       "      <td>712766900</td>\n",
       "      <td>69.81</td>\n",
       "      <td>0.0</td>\n",
       "    </tr>\n",
       "    <tr>\n",
       "      <th>2000-08-31</th>\n",
       "      <td>2000-08-31</td>\n",
       "      <td>69.94</td>\n",
       "      <td>74.87</td>\n",
       "      <td>68.12</td>\n",
       "      <td>69.81</td>\n",
       "      <td>609699900</td>\n",
       "      <td>69.81</td>\n",
       "      <td>0.0</td>\n",
       "    </tr>\n",
       "    <tr>\n",
       "      <th>2000-07-31</th>\n",
       "      <td>2000-07-31</td>\n",
       "      <td>79.69</td>\n",
       "      <td>82.87</td>\n",
       "      <td>67.25</td>\n",
       "      <td>69.81</td>\n",
       "      <td>617092900</td>\n",
       "      <td>80.00</td>\n",
       "      <td>0.0</td>\n",
       "    </tr>\n",
       "    <tr>\n",
       "      <th>2000-06-30</th>\n",
       "      <td>2000-06-30</td>\n",
       "      <td>64.37</td>\n",
       "      <td>82.19</td>\n",
       "      <td>63.81</td>\n",
       "      <td>80.00</td>\n",
       "      <td>733525100</td>\n",
       "      <td>62.56</td>\n",
       "      <td>1.0</td>\n",
       "    </tr>\n",
       "    <tr>\n",
       "      <th>2000-05-31</th>\n",
       "      <td>2000-05-31</td>\n",
       "      <td>72.87</td>\n",
       "      <td>74.00</td>\n",
       "      <td>60.38</td>\n",
       "      <td>62.56</td>\n",
       "      <td>672215400</td>\n",
       "      <td>69.75</td>\n",
       "      <td>0.0</td>\n",
       "    </tr>\n",
       "    <tr>\n",
       "      <th>2000-04-28</th>\n",
       "      <td>2000-04-28</td>\n",
       "      <td>94.44</td>\n",
       "      <td>96.50</td>\n",
       "      <td>65.00</td>\n",
       "      <td>69.75</td>\n",
       "      <td>1129073300</td>\n",
       "      <td>106.25</td>\n",
       "      <td>0.0</td>\n",
       "    </tr>\n",
       "    <tr>\n",
       "      <th>2000-03-31</th>\n",
       "      <td>2000-03-31</td>\n",
       "      <td>89.62</td>\n",
       "      <td>115.00</td>\n",
       "      <td>88.94</td>\n",
       "      <td>106.25</td>\n",
       "      <td>1014093800</td>\n",
       "      <td>89.37</td>\n",
       "      <td>1.0</td>\n",
       "    </tr>\n",
       "    <tr>\n",
       "      <th>2000-02-29</th>\n",
       "      <td>2000-02-29</td>\n",
       "      <td>98.50</td>\n",
       "      <td>110.00</td>\n",
       "      <td>88.12</td>\n",
       "      <td>89.37</td>\n",
       "      <td>667243800</td>\n",
       "      <td>97.87</td>\n",
       "      <td>0.0</td>\n",
       "    </tr>\n",
       "    <tr>\n",
       "      <th>2000-01-31</th>\n",
       "      <td>2000-01-31</td>\n",
       "      <td>117.37</td>\n",
       "      <td>118.62</td>\n",
       "      <td>94.87</td>\n",
       "      <td>97.87</td>\n",
       "      <td>637437600</td>\n",
       "      <td>116.75</td>\n",
       "      <td>0.0</td>\n",
       "    </tr>\n",
       "  </tbody>\n",
       "</table>\n",
       "</div>"
      ],
      "text/plain": [
       "            timestamp    open    high    low   close      volume  prev_close  \\\n",
       "timestamp                                                                      \n",
       "2000-10-31 2000-10-31   60.50   70.12  48.44   68.87  1234707800       60.31   \n",
       "2000-09-29 2000-09-29   70.00   72.06  58.63   60.31   712766900       69.81   \n",
       "2000-08-31 2000-08-31   69.94   74.87  68.12   69.81   609699900       69.81   \n",
       "2000-07-31 2000-07-31   79.69   82.87  67.25   69.81   617092900       80.00   \n",
       "2000-06-30 2000-06-30   64.37   82.19  63.81   80.00   733525100       62.56   \n",
       "2000-05-31 2000-05-31   72.87   74.00  60.38   62.56   672215400       69.75   \n",
       "2000-04-28 2000-04-28   94.44   96.50  65.00   69.75  1129073300      106.25   \n",
       "2000-03-31 2000-03-31   89.62  115.00  88.94  106.25  1014093800       89.37   \n",
       "2000-02-29 2000-02-29   98.50  110.00  88.12   89.37   667243800       97.87   \n",
       "2000-01-31 2000-01-31  117.37  118.62  94.87   97.87   637437600      116.75   \n",
       "\n",
       "            action  \n",
       "timestamp           \n",
       "2000-10-31     1.0  \n",
       "2000-09-29     0.0  \n",
       "2000-08-31     0.0  \n",
       "2000-07-31     0.0  \n",
       "2000-06-30     1.0  \n",
       "2000-05-31     0.0  \n",
       "2000-04-28     0.0  \n",
       "2000-03-31     1.0  \n",
       "2000-02-29     0.0  \n",
       "2000-01-31     0.0  "
      ]
     },
     "execution_count": 132,
     "metadata": {},
     "output_type": "execute_result"
    }
   ],
   "source": [
    "cropped_df.tail(10)"
   ]
  },
  {
   "cell_type": "code",
   "execution_count": 133,
   "metadata": {},
   "outputs": [],
   "source": [
    "cropped_df = cropped_df.reset_index(drop=True)\n",
    "# Drop last row\n",
    "cropped_df = cropped_df[:-1]"
   ]
  },
  {
   "cell_type": "code",
   "execution_count": 134,
   "metadata": {},
   "outputs": [
    {
     "data": {
      "text/html": [
       "<div>\n",
       "<style scoped>\n",
       "    .dataframe tbody tr th:only-of-type {\n",
       "        vertical-align: middle;\n",
       "    }\n",
       "\n",
       "    .dataframe tbody tr th {\n",
       "        vertical-align: top;\n",
       "    }\n",
       "\n",
       "    .dataframe thead th {\n",
       "        text-align: right;\n",
       "    }\n",
       "</style>\n",
       "<table border=\"1\" class=\"dataframe\">\n",
       "  <thead>\n",
       "    <tr style=\"text-align: right;\">\n",
       "      <th></th>\n",
       "      <th>timestamp</th>\n",
       "      <th>open</th>\n",
       "      <th>high</th>\n",
       "      <th>low</th>\n",
       "      <th>close</th>\n",
       "      <th>volume</th>\n",
       "      <th>prev_close</th>\n",
       "      <th>action</th>\n",
       "    </tr>\n",
       "  </thead>\n",
       "  <tbody>\n",
       "    <tr>\n",
       "      <th>227</th>\n",
       "      <td>2000-06-30</td>\n",
       "      <td>64.37</td>\n",
       "      <td>82.19</td>\n",
       "      <td>63.81</td>\n",
       "      <td>80.00</td>\n",
       "      <td>733525100</td>\n",
       "      <td>62.56</td>\n",
       "      <td>1.0</td>\n",
       "    </tr>\n",
       "    <tr>\n",
       "      <th>228</th>\n",
       "      <td>2000-05-31</td>\n",
       "      <td>72.87</td>\n",
       "      <td>74.00</td>\n",
       "      <td>60.38</td>\n",
       "      <td>62.56</td>\n",
       "      <td>672215400</td>\n",
       "      <td>69.75</td>\n",
       "      <td>0.0</td>\n",
       "    </tr>\n",
       "    <tr>\n",
       "      <th>229</th>\n",
       "      <td>2000-04-28</td>\n",
       "      <td>94.44</td>\n",
       "      <td>96.50</td>\n",
       "      <td>65.00</td>\n",
       "      <td>69.75</td>\n",
       "      <td>1129073300</td>\n",
       "      <td>106.25</td>\n",
       "      <td>0.0</td>\n",
       "    </tr>\n",
       "    <tr>\n",
       "      <th>230</th>\n",
       "      <td>2000-03-31</td>\n",
       "      <td>89.62</td>\n",
       "      <td>115.00</td>\n",
       "      <td>88.94</td>\n",
       "      <td>106.25</td>\n",
       "      <td>1014093800</td>\n",
       "      <td>89.37</td>\n",
       "      <td>1.0</td>\n",
       "    </tr>\n",
       "    <tr>\n",
       "      <th>231</th>\n",
       "      <td>2000-02-29</td>\n",
       "      <td>98.50</td>\n",
       "      <td>110.00</td>\n",
       "      <td>88.12</td>\n",
       "      <td>89.37</td>\n",
       "      <td>667243800</td>\n",
       "      <td>97.87</td>\n",
       "      <td>0.0</td>\n",
       "    </tr>\n",
       "  </tbody>\n",
       "</table>\n",
       "</div>"
      ],
      "text/plain": [
       "     timestamp   open    high    low   close      volume  prev_close  action\n",
       "227 2000-06-30  64.37   82.19  63.81   80.00   733525100       62.56     1.0\n",
       "228 2000-05-31  72.87   74.00  60.38   62.56   672215400       69.75     0.0\n",
       "229 2000-04-28  94.44   96.50  65.00   69.75  1129073300      106.25     0.0\n",
       "230 2000-03-31  89.62  115.00  88.94  106.25  1014093800       89.37     1.0\n",
       "231 2000-02-29  98.50  110.00  88.12   89.37   667243800       97.87     0.0"
      ]
     },
     "execution_count": 134,
     "metadata": {},
     "output_type": "execute_result"
    }
   ],
   "source": [
    "cropped_df.tail(5)"
   ]
  },
  {
   "cell_type": "code",
   "execution_count": 135,
   "metadata": {},
   "outputs": [],
   "source": [
    "news_data = pd.read_csv(\"data/sentimental_data.csv\")"
   ]
  },
  {
   "cell_type": "code",
   "execution_count": 136,
   "metadata": {},
   "outputs": [
    {
     "data": {
      "text/html": [
       "<div>\n",
       "<style scoped>\n",
       "    .dataframe tbody tr th:only-of-type {\n",
       "        vertical-align: middle;\n",
       "    }\n",
       "\n",
       "    .dataframe tbody tr th {\n",
       "        vertical-align: top;\n",
       "    }\n",
       "\n",
       "    .dataframe thead th {\n",
       "        text-align: right;\n",
       "    }\n",
       "</style>\n",
       "<table border=\"1\" class=\"dataframe\">\n",
       "  <thead>\n",
       "    <tr style=\"text-align: right;\">\n",
       "      <th></th>\n",
       "      <th>year</th>\n",
       "      <th>month</th>\n",
       "      <th>positive</th>\n",
       "    </tr>\n",
       "  </thead>\n",
       "  <tbody>\n",
       "    <tr>\n",
       "      <th>0</th>\n",
       "      <td>2000</td>\n",
       "      <td>1</td>\n",
       "      <td>0.541624</td>\n",
       "    </tr>\n",
       "    <tr>\n",
       "      <th>1</th>\n",
       "      <td>2000</td>\n",
       "      <td>2</td>\n",
       "      <td>0.537205</td>\n",
       "    </tr>\n",
       "    <tr>\n",
       "      <th>2</th>\n",
       "      <td>2000</td>\n",
       "      <td>3</td>\n",
       "      <td>0.537788</td>\n",
       "    </tr>\n",
       "    <tr>\n",
       "      <th>3</th>\n",
       "      <td>2000</td>\n",
       "      <td>4</td>\n",
       "      <td>0.536477</td>\n",
       "    </tr>\n",
       "    <tr>\n",
       "      <th>4</th>\n",
       "      <td>2000</td>\n",
       "      <td>5</td>\n",
       "      <td>0.541516</td>\n",
       "    </tr>\n",
       "    <tr>\n",
       "      <th>5</th>\n",
       "      <td>2000</td>\n",
       "      <td>6</td>\n",
       "      <td>0.532644</td>\n",
       "    </tr>\n",
       "    <tr>\n",
       "      <th>6</th>\n",
       "      <td>2000</td>\n",
       "      <td>7</td>\n",
       "      <td>0.537956</td>\n",
       "    </tr>\n",
       "    <tr>\n",
       "      <th>7</th>\n",
       "      <td>2000</td>\n",
       "      <td>8</td>\n",
       "      <td>0.539437</td>\n",
       "    </tr>\n",
       "    <tr>\n",
       "      <th>8</th>\n",
       "      <td>2000</td>\n",
       "      <td>9</td>\n",
       "      <td>0.535648</td>\n",
       "    </tr>\n",
       "    <tr>\n",
       "      <th>9</th>\n",
       "      <td>2000</td>\n",
       "      <td>10</td>\n",
       "      <td>0.534441</td>\n",
       "    </tr>\n",
       "  </tbody>\n",
       "</table>\n",
       "</div>"
      ],
      "text/plain": [
       "   year  month  positive\n",
       "0  2000      1  0.541624\n",
       "1  2000      2  0.537205\n",
       "2  2000      3  0.537788\n",
       "3  2000      4  0.536477\n",
       "4  2000      5  0.541516\n",
       "5  2000      6  0.532644\n",
       "6  2000      7  0.537956\n",
       "7  2000      8  0.539437\n",
       "8  2000      9  0.535648\n",
       "9  2000     10  0.534441"
      ]
     },
     "execution_count": 136,
     "metadata": {},
     "output_type": "execute_result"
    }
   ],
   "source": [
    "news_data.head(10)"
   ]
  },
  {
   "cell_type": "code",
   "execution_count": 137,
   "metadata": {},
   "outputs": [
    {
     "data": {
      "text/html": [
       "<div>\n",
       "<style scoped>\n",
       "    .dataframe tbody tr th:only-of-type {\n",
       "        vertical-align: middle;\n",
       "    }\n",
       "\n",
       "    .dataframe tbody tr th {\n",
       "        vertical-align: top;\n",
       "    }\n",
       "\n",
       "    .dataframe thead th {\n",
       "        text-align: right;\n",
       "    }\n",
       "</style>\n",
       "<table border=\"1\" class=\"dataframe\">\n",
       "  <thead>\n",
       "    <tr style=\"text-align: right;\">\n",
       "      <th></th>\n",
       "      <th>year</th>\n",
       "      <th>month</th>\n",
       "      <th>positive</th>\n",
       "    </tr>\n",
       "  </thead>\n",
       "  <tbody>\n",
       "    <tr>\n",
       "      <th>223</th>\n",
       "      <td>2018</td>\n",
       "      <td>8</td>\n",
       "      <td>0.565977</td>\n",
       "    </tr>\n",
       "    <tr>\n",
       "      <th>224</th>\n",
       "      <td>2018</td>\n",
       "      <td>9</td>\n",
       "      <td>0.553506</td>\n",
       "    </tr>\n",
       "    <tr>\n",
       "      <th>225</th>\n",
       "      <td>2018</td>\n",
       "      <td>10</td>\n",
       "      <td>0.548968</td>\n",
       "    </tr>\n",
       "    <tr>\n",
       "      <th>226</th>\n",
       "      <td>2018</td>\n",
       "      <td>11</td>\n",
       "      <td>0.552921</td>\n",
       "    </tr>\n",
       "    <tr>\n",
       "      <th>227</th>\n",
       "      <td>2018</td>\n",
       "      <td>12</td>\n",
       "      <td>0.561755</td>\n",
       "    </tr>\n",
       "    <tr>\n",
       "      <th>228</th>\n",
       "      <td>2019</td>\n",
       "      <td>1</td>\n",
       "      <td>0.548660</td>\n",
       "    </tr>\n",
       "    <tr>\n",
       "      <th>229</th>\n",
       "      <td>2019</td>\n",
       "      <td>2</td>\n",
       "      <td>0.556610</td>\n",
       "    </tr>\n",
       "    <tr>\n",
       "      <th>230</th>\n",
       "      <td>2019</td>\n",
       "      <td>3</td>\n",
       "      <td>0.562695</td>\n",
       "    </tr>\n",
       "    <tr>\n",
       "      <th>231</th>\n",
       "      <td>2019</td>\n",
       "      <td>4</td>\n",
       "      <td>0.544137</td>\n",
       "    </tr>\n",
       "    <tr>\n",
       "      <th>232</th>\n",
       "      <td>2019</td>\n",
       "      <td>5</td>\n",
       "      <td>0.543147</td>\n",
       "    </tr>\n",
       "  </tbody>\n",
       "</table>\n",
       "</div>"
      ],
      "text/plain": [
       "     year  month  positive\n",
       "223  2018      8  0.565977\n",
       "224  2018      9  0.553506\n",
       "225  2018     10  0.548968\n",
       "226  2018     11  0.552921\n",
       "227  2018     12  0.561755\n",
       "228  2019      1  0.548660\n",
       "229  2019      2  0.556610\n",
       "230  2019      3  0.562695\n",
       "231  2019      4  0.544137\n",
       "232  2019      5  0.543147"
      ]
     },
     "execution_count": 137,
     "metadata": {},
     "output_type": "execute_result"
    }
   ],
   "source": [
    "news_data.tail(10)"
   ]
  },
  {
   "cell_type": "code",
   "execution_count": 138,
   "metadata": {},
   "outputs": [],
   "source": [
    "news_data = news_data[::-1].reset_index().drop(columns=['index'])"
   ]
  },
  {
   "cell_type": "code",
   "execution_count": 139,
   "metadata": {},
   "outputs": [
    {
     "data": {
      "text/html": [
       "<div>\n",
       "<style scoped>\n",
       "    .dataframe tbody tr th:only-of-type {\n",
       "        vertical-align: middle;\n",
       "    }\n",
       "\n",
       "    .dataframe tbody tr th {\n",
       "        vertical-align: top;\n",
       "    }\n",
       "\n",
       "    .dataframe thead th {\n",
       "        text-align: right;\n",
       "    }\n",
       "</style>\n",
       "<table border=\"1\" class=\"dataframe\">\n",
       "  <thead>\n",
       "    <tr style=\"text-align: right;\">\n",
       "      <th></th>\n",
       "      <th>year</th>\n",
       "      <th>month</th>\n",
       "      <th>positive</th>\n",
       "    </tr>\n",
       "  </thead>\n",
       "  <tbody>\n",
       "    <tr>\n",
       "      <th>0</th>\n",
       "      <td>2019</td>\n",
       "      <td>5</td>\n",
       "      <td>0.543147</td>\n",
       "    </tr>\n",
       "    <tr>\n",
       "      <th>1</th>\n",
       "      <td>2019</td>\n",
       "      <td>4</td>\n",
       "      <td>0.544137</td>\n",
       "    </tr>\n",
       "    <tr>\n",
       "      <th>2</th>\n",
       "      <td>2019</td>\n",
       "      <td>3</td>\n",
       "      <td>0.562695</td>\n",
       "    </tr>\n",
       "    <tr>\n",
       "      <th>3</th>\n",
       "      <td>2019</td>\n",
       "      <td>2</td>\n",
       "      <td>0.556610</td>\n",
       "    </tr>\n",
       "    <tr>\n",
       "      <th>4</th>\n",
       "      <td>2019</td>\n",
       "      <td>1</td>\n",
       "      <td>0.548660</td>\n",
       "    </tr>\n",
       "    <tr>\n",
       "      <th>5</th>\n",
       "      <td>2018</td>\n",
       "      <td>12</td>\n",
       "      <td>0.561755</td>\n",
       "    </tr>\n",
       "    <tr>\n",
       "      <th>6</th>\n",
       "      <td>2018</td>\n",
       "      <td>11</td>\n",
       "      <td>0.552921</td>\n",
       "    </tr>\n",
       "    <tr>\n",
       "      <th>7</th>\n",
       "      <td>2018</td>\n",
       "      <td>10</td>\n",
       "      <td>0.548968</td>\n",
       "    </tr>\n",
       "    <tr>\n",
       "      <th>8</th>\n",
       "      <td>2018</td>\n",
       "      <td>9</td>\n",
       "      <td>0.553506</td>\n",
       "    </tr>\n",
       "    <tr>\n",
       "      <th>9</th>\n",
       "      <td>2018</td>\n",
       "      <td>8</td>\n",
       "      <td>0.565977</td>\n",
       "    </tr>\n",
       "  </tbody>\n",
       "</table>\n",
       "</div>"
      ],
      "text/plain": [
       "   year  month  positive\n",
       "0  2019      5  0.543147\n",
       "1  2019      4  0.544137\n",
       "2  2019      3  0.562695\n",
       "3  2019      2  0.556610\n",
       "4  2019      1  0.548660\n",
       "5  2018     12  0.561755\n",
       "6  2018     11  0.552921\n",
       "7  2018     10  0.548968\n",
       "8  2018      9  0.553506\n",
       "9  2018      8  0.565977"
      ]
     },
     "execution_count": 139,
     "metadata": {},
     "output_type": "execute_result"
    }
   ],
   "source": [
    "news_data.head(10)"
   ]
  },
  {
   "cell_type": "code",
   "execution_count": 140,
   "metadata": {},
   "outputs": [],
   "source": [
    "#Drop first row\n",
    "news_data = news_data[1:]"
   ]
  },
  {
   "cell_type": "code",
   "execution_count": 141,
   "metadata": {},
   "outputs": [],
   "source": [
    "news_data = news_data.reset_index()"
   ]
  },
  {
   "cell_type": "code",
   "execution_count": 142,
   "metadata": {},
   "outputs": [],
   "source": [
    "# Combine two datasets\n",
    "sentimental_df = pd.concat([cropped_df, news_data], axis=1, join_axes=[cropped_df.index])"
   ]
  },
  {
   "cell_type": "code",
   "execution_count": 143,
   "metadata": {},
   "outputs": [
    {
     "data": {
      "text/html": [
       "<div>\n",
       "<style scoped>\n",
       "    .dataframe tbody tr th:only-of-type {\n",
       "        vertical-align: middle;\n",
       "    }\n",
       "\n",
       "    .dataframe tbody tr th {\n",
       "        vertical-align: top;\n",
       "    }\n",
       "\n",
       "    .dataframe thead th {\n",
       "        text-align: right;\n",
       "    }\n",
       "</style>\n",
       "<table border=\"1\" class=\"dataframe\">\n",
       "  <thead>\n",
       "    <tr style=\"text-align: right;\">\n",
       "      <th></th>\n",
       "      <th>timestamp</th>\n",
       "      <th>open</th>\n",
       "      <th>high</th>\n",
       "      <th>low</th>\n",
       "      <th>close</th>\n",
       "      <th>volume</th>\n",
       "      <th>prev_close</th>\n",
       "      <th>action</th>\n",
       "      <th>index</th>\n",
       "      <th>year</th>\n",
       "      <th>month</th>\n",
       "      <th>positive</th>\n",
       "    </tr>\n",
       "  </thead>\n",
       "  <tbody>\n",
       "    <tr>\n",
       "      <th>0</th>\n",
       "      <td>2019-05-14</td>\n",
       "      <td>130.530</td>\n",
       "      <td>130.65</td>\n",
       "      <td>123.04</td>\n",
       "      <td>124.73</td>\n",
       "      <td>285095390</td>\n",
       "      <td>130.60</td>\n",
       "      <td>0.0</td>\n",
       "      <td>1</td>\n",
       "      <td>2019</td>\n",
       "      <td>4</td>\n",
       "      <td>0.544137</td>\n",
       "    </tr>\n",
       "    <tr>\n",
       "      <th>1</th>\n",
       "      <td>2019-04-30</td>\n",
       "      <td>118.950</td>\n",
       "      <td>131.37</td>\n",
       "      <td>118.10</td>\n",
       "      <td>130.60</td>\n",
       "      <td>433157868</td>\n",
       "      <td>117.94</td>\n",
       "      <td>1.0</td>\n",
       "      <td>2</td>\n",
       "      <td>2019</td>\n",
       "      <td>3</td>\n",
       "      <td>0.562695</td>\n",
       "    </tr>\n",
       "    <tr>\n",
       "      <th>2</th>\n",
       "      <td>2019-03-29</td>\n",
       "      <td>112.890</td>\n",
       "      <td>120.82</td>\n",
       "      <td>108.80</td>\n",
       "      <td>117.94</td>\n",
       "      <td>589045341</td>\n",
       "      <td>112.03</td>\n",
       "      <td>1.0</td>\n",
       "      <td>3</td>\n",
       "      <td>2019</td>\n",
       "      <td>2</td>\n",
       "      <td>0.556610</td>\n",
       "    </tr>\n",
       "    <tr>\n",
       "      <th>3</th>\n",
       "      <td>2019-02-28</td>\n",
       "      <td>103.775</td>\n",
       "      <td>113.24</td>\n",
       "      <td>102.35</td>\n",
       "      <td>112.03</td>\n",
       "      <td>469095970</td>\n",
       "      <td>104.43</td>\n",
       "      <td>1.0</td>\n",
       "      <td>4</td>\n",
       "      <td>2019</td>\n",
       "      <td>1</td>\n",
       "      <td>0.548660</td>\n",
       "    </tr>\n",
       "    <tr>\n",
       "      <th>4</th>\n",
       "      <td>2019-01-31</td>\n",
       "      <td>99.550</td>\n",
       "      <td>107.90</td>\n",
       "      <td>97.20</td>\n",
       "      <td>104.43</td>\n",
       "      <td>714204787</td>\n",
       "      <td>101.57</td>\n",
       "      <td>1.0</td>\n",
       "      <td>5</td>\n",
       "      <td>2018</td>\n",
       "      <td>12</td>\n",
       "      <td>0.561755</td>\n",
       "    </tr>\n",
       "  </tbody>\n",
       "</table>\n",
       "</div>"
      ],
      "text/plain": [
       "   timestamp     open    high     low   close     volume  prev_close  action  \\\n",
       "0 2019-05-14  130.530  130.65  123.04  124.73  285095390      130.60     0.0   \n",
       "1 2019-04-30  118.950  131.37  118.10  130.60  433157868      117.94     1.0   \n",
       "2 2019-03-29  112.890  120.82  108.80  117.94  589045341      112.03     1.0   \n",
       "3 2019-02-28  103.775  113.24  102.35  112.03  469095970      104.43     1.0   \n",
       "4 2019-01-31   99.550  107.90   97.20  104.43  714204787      101.57     1.0   \n",
       "\n",
       "   index  year  month  positive  \n",
       "0      1  2019      4  0.544137  \n",
       "1      2  2019      3  0.562695  \n",
       "2      3  2019      2  0.556610  \n",
       "3      4  2019      1  0.548660  \n",
       "4      5  2018     12  0.561755  "
      ]
     },
     "execution_count": 143,
     "metadata": {},
     "output_type": "execute_result"
    }
   ],
   "source": [
    "sentimental_df.head(5)"
   ]
  },
  {
   "cell_type": "code",
   "execution_count": 144,
   "metadata": {},
   "outputs": [
    {
     "data": {
      "text/html": [
       "<div>\n",
       "<style scoped>\n",
       "    .dataframe tbody tr th:only-of-type {\n",
       "        vertical-align: middle;\n",
       "    }\n",
       "\n",
       "    .dataframe tbody tr th {\n",
       "        vertical-align: top;\n",
       "    }\n",
       "\n",
       "    .dataframe thead th {\n",
       "        text-align: right;\n",
       "    }\n",
       "</style>\n",
       "<table border=\"1\" class=\"dataframe\">\n",
       "  <thead>\n",
       "    <tr style=\"text-align: right;\">\n",
       "      <th></th>\n",
       "      <th>timestamp</th>\n",
       "      <th>open</th>\n",
       "      <th>high</th>\n",
       "      <th>low</th>\n",
       "      <th>close</th>\n",
       "      <th>volume</th>\n",
       "      <th>prev_close</th>\n",
       "      <th>action</th>\n",
       "      <th>index</th>\n",
       "      <th>year</th>\n",
       "      <th>month</th>\n",
       "      <th>positive</th>\n",
       "      <th>index</th>\n",
       "      <th>year</th>\n",
       "      <th>month</th>\n",
       "      <th>appearance</th>\n",
       "      <th>positive2</th>\n",
       "    </tr>\n",
       "  </thead>\n",
       "  <tbody>\n",
       "    <tr>\n",
       "      <th>0</th>\n",
       "      <td>2019-05-14</td>\n",
       "      <td>130.530</td>\n",
       "      <td>130.65</td>\n",
       "      <td>123.04</td>\n",
       "      <td>124.73</td>\n",
       "      <td>285095390</td>\n",
       "      <td>130.60</td>\n",
       "      <td>0.0</td>\n",
       "      <td>1</td>\n",
       "      <td>2019</td>\n",
       "      <td>4</td>\n",
       "      <td>0.544137</td>\n",
       "      <td>1</td>\n",
       "      <td>2019</td>\n",
       "      <td>4</td>\n",
       "      <td>3</td>\n",
       "      <td>0.666667</td>\n",
       "    </tr>\n",
       "    <tr>\n",
       "      <th>1</th>\n",
       "      <td>2019-04-30</td>\n",
       "      <td>118.950</td>\n",
       "      <td>131.37</td>\n",
       "      <td>118.10</td>\n",
       "      <td>130.60</td>\n",
       "      <td>433157868</td>\n",
       "      <td>117.94</td>\n",
       "      <td>1.0</td>\n",
       "      <td>2</td>\n",
       "      <td>2019</td>\n",
       "      <td>3</td>\n",
       "      <td>0.562695</td>\n",
       "      <td>2</td>\n",
       "      <td>2019</td>\n",
       "      <td>3</td>\n",
       "      <td>4</td>\n",
       "      <td>0.500000</td>\n",
       "    </tr>\n",
       "    <tr>\n",
       "      <th>2</th>\n",
       "      <td>2019-03-29</td>\n",
       "      <td>112.890</td>\n",
       "      <td>120.82</td>\n",
       "      <td>108.80</td>\n",
       "      <td>117.94</td>\n",
       "      <td>589045341</td>\n",
       "      <td>112.03</td>\n",
       "      <td>1.0</td>\n",
       "      <td>3</td>\n",
       "      <td>2019</td>\n",
       "      <td>2</td>\n",
       "      <td>0.556610</td>\n",
       "      <td>3</td>\n",
       "      <td>2019</td>\n",
       "      <td>2</td>\n",
       "      <td>2</td>\n",
       "      <td>0.500000</td>\n",
       "    </tr>\n",
       "    <tr>\n",
       "      <th>3</th>\n",
       "      <td>2019-02-28</td>\n",
       "      <td>103.775</td>\n",
       "      <td>113.24</td>\n",
       "      <td>102.35</td>\n",
       "      <td>112.03</td>\n",
       "      <td>469095970</td>\n",
       "      <td>104.43</td>\n",
       "      <td>1.0</td>\n",
       "      <td>4</td>\n",
       "      <td>2019</td>\n",
       "      <td>1</td>\n",
       "      <td>0.548660</td>\n",
       "      <td>4</td>\n",
       "      <td>2019</td>\n",
       "      <td>1</td>\n",
       "      <td>9</td>\n",
       "      <td>0.500000</td>\n",
       "    </tr>\n",
       "    <tr>\n",
       "      <th>4</th>\n",
       "      <td>2019-01-31</td>\n",
       "      <td>99.550</td>\n",
       "      <td>107.90</td>\n",
       "      <td>97.20</td>\n",
       "      <td>104.43</td>\n",
       "      <td>714204787</td>\n",
       "      <td>101.57</td>\n",
       "      <td>1.0</td>\n",
       "      <td>5</td>\n",
       "      <td>2018</td>\n",
       "      <td>12</td>\n",
       "      <td>0.561755</td>\n",
       "      <td>5</td>\n",
       "      <td>2018</td>\n",
       "      <td>12</td>\n",
       "      <td>0</td>\n",
       "      <td>0.000000</td>\n",
       "    </tr>\n",
       "  </tbody>\n",
       "</table>\n",
       "</div>"
      ],
      "text/plain": [
       "   timestamp     open    high     low   close     volume  prev_close  action  \\\n",
       "0 2019-05-14  130.530  130.65  123.04  124.73  285095390      130.60     0.0   \n",
       "1 2019-04-30  118.950  131.37  118.10  130.60  433157868      117.94     1.0   \n",
       "2 2019-03-29  112.890  120.82  108.80  117.94  589045341      112.03     1.0   \n",
       "3 2019-02-28  103.775  113.24  102.35  112.03  469095970      104.43     1.0   \n",
       "4 2019-01-31   99.550  107.90   97.20  104.43  714204787      101.57     1.0   \n",
       "\n",
       "   index  year  month  positive  index  year  month  appearance  positive2  \n",
       "0      1  2019      4  0.544137      1  2019      4           3   0.666667  \n",
       "1      2  2019      3  0.562695      2  2019      3           4   0.500000  \n",
       "2      3  2019      2  0.556610      3  2019      2           2   0.500000  \n",
       "3      4  2019      1  0.548660      4  2019      1           9   0.500000  \n",
       "4      5  2018     12  0.561755      5  2018     12           0   0.000000  "
      ]
     },
     "execution_count": 144,
     "metadata": {},
     "output_type": "execute_result"
    }
   ],
   "source": [
    "# Similarly for the second file\n",
    "news_data2 = pd.read_csv(\"data/sentimental_data2.csv\")\n",
    "news_data2 = news_data2[::-1].reset_index().drop(columns=['index'])\n",
    "news_data2 = news_data2[1:].reset_index()\n",
    "sentimental_df = pd.concat([sentimental_df, news_data2], axis=1, join_axes=[sentimental_df.index])\n",
    "sentimental_df.head(5)"
   ]
  },
  {
   "cell_type": "code",
   "execution_count": 145,
   "metadata": {},
   "outputs": [
    {
     "data": {
      "text/html": [
       "<div>\n",
       "<style scoped>\n",
       "    .dataframe tbody tr th:only-of-type {\n",
       "        vertical-align: middle;\n",
       "    }\n",
       "\n",
       "    .dataframe tbody tr th {\n",
       "        vertical-align: top;\n",
       "    }\n",
       "\n",
       "    .dataframe thead th {\n",
       "        text-align: right;\n",
       "    }\n",
       "</style>\n",
       "<table border=\"1\" class=\"dataframe\">\n",
       "  <thead>\n",
       "    <tr style=\"text-align: right;\">\n",
       "      <th></th>\n",
       "      <th>timestamp</th>\n",
       "      <th>action</th>\n",
       "      <th>positive</th>\n",
       "      <th>appearance</th>\n",
       "      <th>positive2</th>\n",
       "    </tr>\n",
       "  </thead>\n",
       "  <tbody>\n",
       "    <tr>\n",
       "      <th>0</th>\n",
       "      <td>2019-05-14</td>\n",
       "      <td>0.0</td>\n",
       "      <td>0.544137</td>\n",
       "      <td>3</td>\n",
       "      <td>0.666667</td>\n",
       "    </tr>\n",
       "    <tr>\n",
       "      <th>1</th>\n",
       "      <td>2019-04-30</td>\n",
       "      <td>1.0</td>\n",
       "      <td>0.562695</td>\n",
       "      <td>4</td>\n",
       "      <td>0.500000</td>\n",
       "    </tr>\n",
       "    <tr>\n",
       "      <th>2</th>\n",
       "      <td>2019-03-29</td>\n",
       "      <td>1.0</td>\n",
       "      <td>0.556610</td>\n",
       "      <td>2</td>\n",
       "      <td>0.500000</td>\n",
       "    </tr>\n",
       "    <tr>\n",
       "      <th>3</th>\n",
       "      <td>2019-02-28</td>\n",
       "      <td>1.0</td>\n",
       "      <td>0.548660</td>\n",
       "      <td>9</td>\n",
       "      <td>0.500000</td>\n",
       "    </tr>\n",
       "    <tr>\n",
       "      <th>4</th>\n",
       "      <td>2019-01-31</td>\n",
       "      <td>1.0</td>\n",
       "      <td>0.561755</td>\n",
       "      <td>0</td>\n",
       "      <td>0.000000</td>\n",
       "    </tr>\n",
       "  </tbody>\n",
       "</table>\n",
       "</div>"
      ],
      "text/plain": [
       "   timestamp  action  positive  appearance  positive2\n",
       "0 2019-05-14     0.0  0.544137           3   0.666667\n",
       "1 2019-04-30     1.0  0.562695           4   0.500000\n",
       "2 2019-03-29     1.0  0.556610           2   0.500000\n",
       "3 2019-02-28     1.0  0.548660           9   0.500000\n",
       "4 2019-01-31     1.0  0.561755           0   0.000000"
      ]
     },
     "execution_count": 145,
     "metadata": {},
     "output_type": "execute_result"
    }
   ],
   "source": [
    "sma_df = sentimental_df.drop(columns = ['open','high','low','close','prev_close','year','month','volume','index'])\n",
    "sma_df.head(5)"
   ]
  },
  {
   "cell_type": "markdown",
   "metadata": {},
   "source": [
    "## Add STOCH indicator"
   ]
  },
  {
   "cell_type": "code",
   "execution_count": 146,
   "metadata": {},
   "outputs": [],
   "source": [
    "symbl = 'MSFT'\n",
    "apiKey = 'MSXSR0YHC991CZN6'\n",
    "\n",
    "# Fetch SMA Data\n",
    "stoch = pd.read_csv('https://www.alphavantage.co/query?function=STOCH&symbol=' + symbl + '&interval=monthly&time_period=10&series_type=open&apikey=' + apiKey + '&datatype=csv')\n"
   ]
  },
  {
   "cell_type": "code",
   "execution_count": 147,
   "metadata": {},
   "outputs": [],
   "source": [
    "# Drop the first row and reset index\n",
    "stoch = stoch[1:].reset_index()"
   ]
  },
  {
   "cell_type": "code",
   "execution_count": 148,
   "metadata": {},
   "outputs": [
    {
     "data": {
      "text/html": [
       "<div>\n",
       "<style scoped>\n",
       "    .dataframe tbody tr th:only-of-type {\n",
       "        vertical-align: middle;\n",
       "    }\n",
       "\n",
       "    .dataframe tbody tr th {\n",
       "        vertical-align: top;\n",
       "    }\n",
       "\n",
       "    .dataframe thead th {\n",
       "        text-align: right;\n",
       "    }\n",
       "</style>\n",
       "<table border=\"1\" class=\"dataframe\">\n",
       "  <thead>\n",
       "    <tr style=\"text-align: right;\">\n",
       "      <th></th>\n",
       "      <th>timestamp</th>\n",
       "      <th>action</th>\n",
       "      <th>positive</th>\n",
       "      <th>appearance</th>\n",
       "      <th>positive2</th>\n",
       "      <th>index</th>\n",
       "      <th>time</th>\n",
       "      <th>SlowD</th>\n",
       "      <th>SlowK</th>\n",
       "    </tr>\n",
       "  </thead>\n",
       "  <tbody>\n",
       "    <tr>\n",
       "      <th>0</th>\n",
       "      <td>2019-05-14</td>\n",
       "      <td>0.0</td>\n",
       "      <td>0.544137</td>\n",
       "      <td>3</td>\n",
       "      <td>0.666667</td>\n",
       "      <td>1</td>\n",
       "      <td>2019-04-30</td>\n",
       "      <td>72.1060</td>\n",
       "      <td>89.5142</td>\n",
       "    </tr>\n",
       "    <tr>\n",
       "      <th>1</th>\n",
       "      <td>2019-04-30</td>\n",
       "      <td>1.0</td>\n",
       "      <td>0.562695</td>\n",
       "      <td>4</td>\n",
       "      <td>0.500000</td>\n",
       "      <td>2</td>\n",
       "      <td>2019-03-29</td>\n",
       "      <td>59.1869</td>\n",
       "      <td>72.5735</td>\n",
       "    </tr>\n",
       "    <tr>\n",
       "      <th>2</th>\n",
       "      <td>2019-03-29</td>\n",
       "      <td>1.0</td>\n",
       "      <td>0.556610</td>\n",
       "      <td>2</td>\n",
       "      <td>0.500000</td>\n",
       "      <td>3</td>\n",
       "      <td>2019-02-28</td>\n",
       "      <td>52.2875</td>\n",
       "      <td>54.2304</td>\n",
       "    </tr>\n",
       "    <tr>\n",
       "      <th>3</th>\n",
       "      <td>2019-02-28</td>\n",
       "      <td>1.0</td>\n",
       "      <td>0.548660</td>\n",
       "      <td>9</td>\n",
       "      <td>0.500000</td>\n",
       "      <td>4</td>\n",
       "      <td>2019-01-31</td>\n",
       "      <td>58.3607</td>\n",
       "      <td>50.7567</td>\n",
       "    </tr>\n",
       "    <tr>\n",
       "      <th>4</th>\n",
       "      <td>2019-01-31</td>\n",
       "      <td>1.0</td>\n",
       "      <td>0.561755</td>\n",
       "      <td>0</td>\n",
       "      <td>0.000000</td>\n",
       "      <td>5</td>\n",
       "      <td>2018-12-31</td>\n",
       "      <td>68.6283</td>\n",
       "      <td>51.8754</td>\n",
       "    </tr>\n",
       "  </tbody>\n",
       "</table>\n",
       "</div>"
      ],
      "text/plain": [
       "   timestamp  action  positive  appearance  positive2  index        time  \\\n",
       "0 2019-05-14     0.0  0.544137           3   0.666667      1  2019-04-30   \n",
       "1 2019-04-30     1.0  0.562695           4   0.500000      2  2019-03-29   \n",
       "2 2019-03-29     1.0  0.556610           2   0.500000      3  2019-02-28   \n",
       "3 2019-02-28     1.0  0.548660           9   0.500000      4  2019-01-31   \n",
       "4 2019-01-31     1.0  0.561755           0   0.000000      5  2018-12-31   \n",
       "\n",
       "     SlowD    SlowK  \n",
       "0  72.1060  89.5142  \n",
       "1  59.1869  72.5735  \n",
       "2  52.2875  54.2304  \n",
       "3  58.3607  50.7567  \n",
       "4  68.6283  51.8754  "
      ]
     },
     "execution_count": 148,
     "metadata": {},
     "output_type": "execute_result"
    }
   ],
   "source": [
    "all_data = pd.concat([sma_df, stoch], axis=1, join_axes=[sma_df.index])\n",
    "all_data.head(5)"
   ]
  },
  {
   "cell_type": "code",
   "execution_count": 149,
   "metadata": {},
   "outputs": [
    {
     "data": {
      "text/html": [
       "<div>\n",
       "<style scoped>\n",
       "    .dataframe tbody tr th:only-of-type {\n",
       "        vertical-align: middle;\n",
       "    }\n",
       "\n",
       "    .dataframe tbody tr th {\n",
       "        vertical-align: top;\n",
       "    }\n",
       "\n",
       "    .dataframe thead th {\n",
       "        text-align: right;\n",
       "    }\n",
       "</style>\n",
       "<table border=\"1\" class=\"dataframe\">\n",
       "  <thead>\n",
       "    <tr style=\"text-align: right;\">\n",
       "      <th></th>\n",
       "      <th>timestamp</th>\n",
       "      <th>action</th>\n",
       "      <th>positive</th>\n",
       "      <th>appearance</th>\n",
       "      <th>positive2</th>\n",
       "      <th>SlowD</th>\n",
       "      <th>SlowK</th>\n",
       "    </tr>\n",
       "  </thead>\n",
       "  <tbody>\n",
       "    <tr>\n",
       "      <th>0</th>\n",
       "      <td>2019-05-14</td>\n",
       "      <td>0.0</td>\n",
       "      <td>0.544137</td>\n",
       "      <td>3</td>\n",
       "      <td>0.666667</td>\n",
       "      <td>72.1060</td>\n",
       "      <td>89.5142</td>\n",
       "    </tr>\n",
       "    <tr>\n",
       "      <th>1</th>\n",
       "      <td>2019-04-30</td>\n",
       "      <td>1.0</td>\n",
       "      <td>0.562695</td>\n",
       "      <td>4</td>\n",
       "      <td>0.500000</td>\n",
       "      <td>59.1869</td>\n",
       "      <td>72.5735</td>\n",
       "    </tr>\n",
       "    <tr>\n",
       "      <th>2</th>\n",
       "      <td>2019-03-29</td>\n",
       "      <td>1.0</td>\n",
       "      <td>0.556610</td>\n",
       "      <td>2</td>\n",
       "      <td>0.500000</td>\n",
       "      <td>52.2875</td>\n",
       "      <td>54.2304</td>\n",
       "    </tr>\n",
       "    <tr>\n",
       "      <th>3</th>\n",
       "      <td>2019-02-28</td>\n",
       "      <td>1.0</td>\n",
       "      <td>0.548660</td>\n",
       "      <td>9</td>\n",
       "      <td>0.500000</td>\n",
       "      <td>58.3607</td>\n",
       "      <td>50.7567</td>\n",
       "    </tr>\n",
       "    <tr>\n",
       "      <th>4</th>\n",
       "      <td>2019-01-31</td>\n",
       "      <td>1.0</td>\n",
       "      <td>0.561755</td>\n",
       "      <td>0</td>\n",
       "      <td>0.000000</td>\n",
       "      <td>68.6283</td>\n",
       "      <td>51.8754</td>\n",
       "    </tr>\n",
       "  </tbody>\n",
       "</table>\n",
       "</div>"
      ],
      "text/plain": [
       "   timestamp  action  positive  appearance  positive2    SlowD    SlowK\n",
       "0 2019-05-14     0.0  0.544137           3   0.666667  72.1060  89.5142\n",
       "1 2019-04-30     1.0  0.562695           4   0.500000  59.1869  72.5735\n",
       "2 2019-03-29     1.0  0.556610           2   0.500000  52.2875  54.2304\n",
       "3 2019-02-28     1.0  0.548660           9   0.500000  58.3607  50.7567\n",
       "4 2019-01-31     1.0  0.561755           0   0.000000  68.6283  51.8754"
      ]
     },
     "execution_count": 149,
     "metadata": {},
     "output_type": "execute_result"
    }
   ],
   "source": [
    "# Drop abundant timestamp and index columns\n",
    "all_data = all_data.drop(columns = ['index','time'])\n",
    "all_data.head(5)"
   ]
  },
  {
   "cell_type": "markdown",
   "metadata": {},
   "source": [
    "## Find correlation"
   ]
  },
  {
   "cell_type": "code",
   "execution_count": 150,
   "metadata": {},
   "outputs": [
    {
     "data": {
      "text/plain": [
       "<matplotlib.axes._subplots.AxesSubplot at 0x10d6721d0>"
      ]
     },
     "execution_count": 150,
     "metadata": {},
     "output_type": "execute_result"
    },
    {
     "data": {
      "image/png": "[encoded data removed]",
      "text/plain": [
       "<Figure size 360x288 with 2 Axes>"
      ]
     },
     "metadata": {
      "needs_background": "light"
     },
     "output_type": "display_data"
    }
   ],
   "source": [
    "corr = all_data.corr()\n",
    "f, ax = plt.subplots(figsize=(5, 4))\n",
    "plt.title(\"Correlation between variables\")\n",
    "sns.heatmap(corr, \n",
    "            xticklabels=corr.columns.values,\n",
    "            yticklabels=corr.columns.values)"
   ]
  },
  {
   "cell_type": "markdown",
   "metadata": {},
   "source": [
    "## Logistic Regression"
   ]
  },
  {
   "cell_type": "code",
   "execution_count": 151,
   "metadata": {},
   "outputs": [
    {
     "name": "stderr",
     "output_type": "stream",
     "text": [
      "/Users/thupham/anaconda3/envs/py3k/lib/python3.7/site-packages/sklearn/linear_model/logistic.py:433: FutureWarning: Default solver will be changed to 'lbfgs' in 0.22. Specify a solver to silence this warning.\n",
      "  FutureWarning)\n"
     ]
    }
   ],
   "source": [
    "from sklearn.model_selection import train_test_split\n",
    "\n",
    "all_data['timestamp'] = pd.to_datetime(all_data['timestamp'], format='%Y-%m-%d')\n",
    "all_data.index = all_data['timestamp']\n",
    "\n",
    "feature_cols = ['positive', 'appearance', 'positive2', 'SlowD', 'SlowK']\n",
    "# feature_cols = ['positive2']\n",
    "target = 'action'\n",
    "X = all_data[feature_cols]\n",
    "y = all_data[target]\n",
    "\n",
    "X_train,X_test,y_train,y_test=train_test_split(X,y,test_size=0.2,random_state=2)\n",
    "\n",
    "# instantiate the model (using the default parameters)\n",
    "logreg = LogisticRegression()\n",
    "\n",
    "# fit the model with data\n",
    "logreg.fit(X_train,y_train)\n",
    "\n",
    "#\n",
    "y_pred=logreg.predict(X_test)\n",
    "y_conf=logreg.decision_function(X_test)"
   ]
  },
  {
   "cell_type": "code",
   "execution_count": 152,
   "metadata": {},
   "outputs": [
    {
     "data": {
      "text/html": [
       "<div>\n",
       "<style scoped>\n",
       "    .dataframe tbody tr th:only-of-type {\n",
       "        vertical-align: middle;\n",
       "    }\n",
       "\n",
       "    .dataframe tbody tr th {\n",
       "        vertical-align: top;\n",
       "    }\n",
       "\n",
       "    .dataframe thead th {\n",
       "        text-align: right;\n",
       "    }\n",
       "</style>\n",
       "<table border=\"1\" class=\"dataframe\">\n",
       "  <thead>\n",
       "    <tr style=\"text-align: right;\">\n",
       "      <th></th>\n",
       "      <th>test</th>\n",
       "      <th>pred</th>\n",
       "      <th>conf</th>\n",
       "    </tr>\n",
       "    <tr>\n",
       "      <th>timestamp</th>\n",
       "      <th></th>\n",
       "      <th></th>\n",
       "      <th></th>\n",
       "    </tr>\n",
       "  </thead>\n",
       "  <tbody>\n",
       "    <tr>\n",
       "      <th>2010-07-30</th>\n",
       "      <td>1.0</td>\n",
       "      <td>1.0</td>\n",
       "      <td>0.169064</td>\n",
       "    </tr>\n",
       "    <tr>\n",
       "      <th>2012-12-31</th>\n",
       "      <td>0.0</td>\n",
       "      <td>1.0</td>\n",
       "      <td>0.230926</td>\n",
       "    </tr>\n",
       "  </tbody>\n",
       "</table>\n",
       "</div>"
      ],
      "text/plain": [
       "            test  pred      conf\n",
       "timestamp                       \n",
       "2010-07-30   1.0   1.0  0.169064\n",
       "2012-12-31   0.0   1.0  0.230926"
      ]
     },
     "execution_count": 152,
     "metadata": {},
     "output_type": "execute_result"
    }
   ],
   "source": [
    "result = pd.DataFrame({ 'test': y_test, 'pred': y_pred, 'conf': y_conf }, columns=['test','pred','conf'])\n",
    "result = result[result['pred'] == 1.0]\n",
    "result"
   ]
  },
  {
   "cell_type": "code",
   "execution_count": 153,
   "metadata": {},
   "outputs": [
    {
     "name": "stdout",
     "output_type": "stream",
     "text": [
      "Accuracy: 0.6595744680851063\n",
      "Precision: 0.5\n",
      "Recall: 0.0625\n"
     ]
    }
   ],
   "source": [
    "from sklearn import metrics\n",
    "\n",
    "print(\"Accuracy:\",metrics.accuracy_score(y_test, y_pred))\n",
    "print(\"Precision:\",metrics.precision_score(y_test, y_pred))\n",
    "print(\"Recall:\",metrics.recall_score(y_test, y_pred))"
   ]
  },
  {
   "cell_type": "code",
   "execution_count": 154,
   "metadata": {},
   "outputs": [
    {
     "data": {
      "text/plain": [
       "array([[30,  1],\n",
       "       [15,  1]])"
      ]
     },
     "execution_count": 154,
     "metadata": {},
     "output_type": "execute_result"
    }
   ],
   "source": [
    "# import the metrics class\n",
    "from sklearn import metrics\n",
    "cnf_matrix = metrics.confusion_matrix(y_test, y_pred)\n",
    "cnf_matrix"
   ]
  },
  {
   "cell_type": "code",
   "execution_count": 155,
   "metadata": {},
   "outputs": [
    {
     "data": {
      "text/plain": [
       "Text(0.5, 257.44, 'Predicted')"
      ]
     },
     "execution_count": 155,
     "metadata": {},
     "output_type": "execute_result"
    },
    {
     "data": {
      "image/png": "[encoded data removed]",
      "text/plain": [
       "<Figure size 432x288 with 2 Axes>"
      ]
     },
     "metadata": {
      "needs_background": "light"
     },
     "output_type": "display_data"
    }
   ],
   "source": [
    "# import required modules\n",
    "import numpy as np\n",
    "import matplotlib.pyplot as plt\n",
    "import seaborn as sns\n",
    "%matplotlib inline\n",
    "\n",
    "class_names=[0,1] # name  of classes\n",
    "fig, ax = plt.subplots()\n",
    "tick_marks = np.arange(len(class_names))\n",
    "plt.xticks(tick_marks, class_names)\n",
    "plt.yticks(tick_marks, class_names)\n",
    "# create heatmap\n",
    "sns.heatmap(pd.DataFrame(cnf_matrix), annot=True, cmap=\"YlGnBu\" ,fmt='g')\n",
    "ax.xaxis.set_label_position(\"top\")\n",
    "plt.tight_layout()\n",
    "plt.title('Confusion matrix', y=1.1)\n",
    "plt.ylabel('Actual')\n",
    "plt.xlabel('Predicted')"
   ]
  },
  {
   "cell_type": "markdown",
   "metadata": {},
   "source": [
    "## Support Vector Machine (SVM)"
   ]
  },
  {
   "cell_type": "code",
   "execution_count": 156,
   "metadata": {},
   "outputs": [
    {
     "name": "stderr",
     "output_type": "stream",
     "text": [
      "/Users/thupham/anaconda3/envs/py3k/lib/python3.7/site-packages/sklearn/svm/base.py:196: FutureWarning: The default value of gamma will change from 'auto' to 'scale' in version 0.22 to account better for unscaled features. Set gamma explicitly to 'auto' or 'scale' to avoid this warning.\n",
      "  \"avoid this warning.\", FutureWarning)\n"
     ]
    },
    {
     "data": {
      "text/plain": [
       "SVC(C=1.0, cache_size=200, class_weight=None, coef0=0.0,\n",
       "  decision_function_shape='ovr', degree=3, gamma='auto_deprecated',\n",
       "  kernel='rbf', max_iter=-1, probability=False, random_state=None,\n",
       "  shrinking=True, tol=0.001, verbose=False)"
      ]
     },
     "execution_count": 156,
     "metadata": {},
     "output_type": "execute_result"
    }
   ],
   "source": [
    "from sklearn import svm\n",
    "\n",
    "# Initiate model\n",
    "svc = svm.SVC(kernel='rbf')\n",
    "\n",
    "# Fit model\n",
    "svc.fit(X_train, y_train)"
   ]
  },
  {
   "cell_type": "code",
   "execution_count": 157,
   "metadata": {},
   "outputs": [],
   "source": [
    "y_pred=svc.predict(X_test)\n",
    "y_conf=svc.decision_function(X_test)"
   ]
  },
  {
   "cell_type": "code",
   "execution_count": 158,
   "metadata": {},
   "outputs": [
    {
     "data": {
      "text/html": [
       "<div>\n",
       "<style scoped>\n",
       "    .dataframe tbody tr th:only-of-type {\n",
       "        vertical-align: middle;\n",
       "    }\n",
       "\n",
       "    .dataframe tbody tr th {\n",
       "        vertical-align: top;\n",
       "    }\n",
       "\n",
       "    .dataframe thead th {\n",
       "        text-align: right;\n",
       "    }\n",
       "</style>\n",
       "<table border=\"1\" class=\"dataframe\">\n",
       "  <thead>\n",
       "    <tr style=\"text-align: right;\">\n",
       "      <th></th>\n",
       "      <th>test</th>\n",
       "      <th>pred</th>\n",
       "      <th>conf</th>\n",
       "    </tr>\n",
       "    <tr>\n",
       "      <th>timestamp</th>\n",
       "      <th></th>\n",
       "      <th></th>\n",
       "      <th></th>\n",
       "    </tr>\n",
       "  </thead>\n",
       "  <tbody>\n",
       "    <tr>\n",
       "      <th>2011-11-30</th>\n",
       "      <td>0.0</td>\n",
       "      <td>1.0</td>\n",
       "      <td>0.127471</td>\n",
       "    </tr>\n",
       "  </tbody>\n",
       "</table>\n",
       "</div>"
      ],
      "text/plain": [
       "            test  pred      conf\n",
       "timestamp                       \n",
       "2011-11-30   0.0   1.0  0.127471"
      ]
     },
     "execution_count": 158,
     "metadata": {},
     "output_type": "execute_result"
    }
   ],
   "source": [
    "result = pd.DataFrame({ 'test': y_test, 'pred': y_pred, 'conf': y_conf }, columns=['test','pred','conf'])\n",
    "result = result[result['pred'] == 1.0]\n",
    "result"
   ]
  },
  {
   "cell_type": "code",
   "execution_count": 159,
   "metadata": {},
   "outputs": [
    {
     "name": "stdout",
     "output_type": "stream",
     "text": [
      "Accuracy: 0.6382978723404256\n",
      "Precision: 0.0\n",
      "Recall: 0.0\n"
     ]
    }
   ],
   "source": [
    "from sklearn import metrics\n",
    "\n",
    "print(\"Accuracy:\",metrics.accuracy_score(y_test, y_pred))\n",
    "print(\"Precision:\",metrics.precision_score(y_test, y_pred))\n",
    "print(\"Recall:\",metrics.recall_score(y_test, y_pred))"
   ]
  },
  {
   "cell_type": "code",
   "execution_count": 160,
   "metadata": {},
   "outputs": [
    {
     "data": {
      "text/plain": [
       "array([[30,  1],\n",
       "       [16,  0]])"
      ]
     },
     "execution_count": 160,
     "metadata": {},
     "output_type": "execute_result"
    }
   ],
   "source": [
    "from sklearn import metrics\n",
    "cnf_matrix = metrics.confusion_matrix(y_test, y_pred)\n",
    "cnf_matrix"
   ]
  },
  {
   "cell_type": "code",
   "execution_count": 161,
   "metadata": {
    "scrolled": true
   },
   "outputs": [
    {
     "data": {
      "text/plain": [
       "Text(0.5, 257.44, 'Predicted')"
      ]
     },
     "execution_count": 161,
     "metadata": {},
     "output_type": "execute_result"
    },
    {
     "data": {
      "image/png": "[encoded data removed]",
      "text/plain": [
       "<Figure size 432x288 with 2 Axes>"
      ]
     },
     "metadata": {
      "needs_background": "light"
     },
     "output_type": "display_data"
    }
   ],
   "source": [
    "class_names=[0,1] # name  of classes\n",
    "fig, ax = plt.subplots()\n",
    "tick_marks = np.arange(len(class_names))\n",
    "plt.xticks(tick_marks, class_names)\n",
    "plt.yticks(tick_marks, class_names)\n",
    "# create heatmap\n",
    "sns.heatmap(pd.DataFrame(cnf_matrix), annot=True, cmap=\"YlGnBu\" ,fmt='g')\n",
    "ax.xaxis.set_label_position(\"top\")\n",
    "plt.tight_layout()\n",
    "plt.title('Confusion matrix', y=1.1)\n",
    "plt.ylabel('Actual')\n",
    "plt.xlabel('Predicted')"
   ]
  },
  {
   "cell_type": "markdown",
   "metadata": {},
   "source": [
    "## Keras Sequential"
   ]
  },
  {
   "cell_type": "code",
   "execution_count": 1540,
   "metadata": {},
   "outputs": [
    {
     "name": "stdout",
     "output_type": "stream",
     "text": [
      "Requirement already satisfied: keras in /usr/local/lib/python3.7/site-packages (2.2.4)\n",
      "Requirement already satisfied: pyyaml in /usr/local/lib/python3.7/site-packages (from keras) (5.1)\n",
      "Requirement already satisfied: h5py in /usr/local/lib/python3.7/site-packages (from keras) (2.9.0)\n",
      "Requirement already satisfied: numpy>=1.9.1 in /usr/local/lib/python3.7/site-packages (from keras) (1.16.3)\n",
      "Requirement already satisfied: keras-preprocessing>=1.0.5 in /usr/local/lib/python3.7/site-packages (from keras) (1.0.9)\n",
      "Requirement already satisfied: scipy>=0.14 in /usr/local/lib/python3.7/site-packages (from keras) (1.2.1)\n",
      "Requirement already satisfied: keras-applications>=1.0.6 in /usr/local/lib/python3.7/site-packages (from keras) (1.0.7)\n",
      "Requirement already satisfied: six>=1.9.0 in /Users/quanglam2807/Library/Python/3.7/lib/python/site-packages (from keras) (1.12.0)\n"
     ]
    }
   ],
   "source": [
    "!pip install keras"
   ]
  },
  {
   "cell_type": "code",
   "execution_count": 162,
   "metadata": {},
   "outputs": [
    {
     "name": "stderr",
     "output_type": "stream",
     "text": [
      "/Users/thupham/anaconda3/envs/py3k/lib/python3.7/site-packages/sklearn/preprocessing/data.py:645: DataConversionWarning: Data with input dtype int64, float64 were all converted to float64 by StandardScaler.\n",
      "  return self.partial_fit(X, y)\n",
      "/Users/thupham/anaconda3/envs/py3k/lib/python3.7/site-packages/ipykernel_launcher.py:8: DataConversionWarning: Data with input dtype int64, float64 were all converted to float64 by StandardScaler.\n",
      "  \n",
      "/Users/thupham/anaconda3/envs/py3k/lib/python3.7/site-packages/ipykernel_launcher.py:11: DataConversionWarning: Data with input dtype int64, float64 were all converted to float64 by StandardScaler.\n",
      "  # This is added back by InteractiveShellApp.init_path()\n"
     ]
    }
   ],
   "source": [
    "# Import `StandardScaler` from `sklearn.preprocessing`\n",
    "from sklearn.preprocessing import StandardScaler\n",
    "\n",
    "# Define the scaler \n",
    "scaler = StandardScaler().fit(X_train)\n",
    "\n",
    "# Scale the train set\n",
    "X_train = scaler.transform(X_train)\n",
    "\n",
    "# Scale the test set\n",
    "X_test = scaler.transform(X_test)"
   ]
  },
  {
   "cell_type": "code",
   "execution_count": 163,
   "metadata": {},
   "outputs": [],
   "source": [
    "# Import `Sequential` from `keras.models`\n",
    "from keras.models import Sequential\n",
    "\n",
    "# Import `Dense` from `keras.layers`\n",
    "from keras.layers import Dense\n",
    "\n",
    "# Initialize the constructor\n",
    "model = Sequential()\n",
    "\n",
    "# Add an input layer \n",
    "model.add(Dense(12, activation='relu', input_shape=(5,)))\n",
    "\n",
    "# Add one hidden layer \n",
    "model.add(Dense(8, activation='relu'))\n",
    "\n",
    "# Add an output layer \n",
    "model.add(Dense(1, activation='sigmoid'))"
   ]
  },
  {
   "cell_type": "code",
   "execution_count": 192,
   "metadata": {},
   "outputs": [
    {
     "name": "stdout",
     "output_type": "stream",
     "text": [
      "Epoch 1/20\n",
      "185/185 [==============================] - 1s 4ms/step - loss: 0.5880 - acc: 0.7135\n",
      "Epoch 2/20\n",
      "185/185 [==============================] - 0s 2ms/step - loss: 0.5857 - acc: 0.6919\n",
      "Epoch 3/20\n",
      "185/185 [==============================] - 0s 1ms/step - loss: 0.5816 - acc: 0.7027\n",
      "Epoch 4/20\n",
      "185/185 [==============================] - 0s 1ms/step - loss: 0.5820 - acc: 0.7081\n",
      "Epoch 5/20\n",
      "185/185 [==============================] - 0s 1ms/step - loss: 0.5818 - acc: 0.7081\n",
      "Epoch 6/20\n",
      "185/185 [==============================] - 0s 1ms/step - loss: 0.5800 - acc: 0.6919\n",
      "Epoch 7/20\n",
      "185/185 [==============================] - 0s 1ms/step - loss: 0.5780 - acc: 0.7081\n",
      "Epoch 8/20\n",
      "185/185 [==============================] - 0s 1ms/step - loss: 0.5775 - acc: 0.6973\n",
      "Epoch 9/20\n",
      "185/185 [==============================] - 0s 1ms/step - loss: 0.5785 - acc: 0.7135\n",
      "Epoch 10/20\n",
      "185/185 [==============================] - 0s 1ms/step - loss: 0.5739 - acc: 0.7081\n",
      "Epoch 11/20\n",
      "185/185 [==============================] - 0s 1ms/step - loss: 0.5769 - acc: 0.7135\n",
      "Epoch 12/20\n",
      "185/185 [==============================] - 0s 1ms/step - loss: 0.5726 - acc: 0.6973\n",
      "Epoch 13/20\n",
      "185/185 [==============================] - 0s 1ms/step - loss: 0.5700 - acc: 0.7135\n",
      "Epoch 14/20\n",
      "185/185 [==============================] - 0s 1ms/step - loss: 0.5702 - acc: 0.7081\n",
      "Epoch 15/20\n",
      "185/185 [==============================] - 0s 1ms/step - loss: 0.5676 - acc: 0.7081\n",
      "Epoch 16/20\n",
      "185/185 [==============================] - 0s 1ms/step - loss: 0.5675 - acc: 0.7189\n",
      "Epoch 17/20\n",
      "185/185 [==============================] - 0s 1ms/step - loss: 0.5638 - acc: 0.6973\n",
      "Epoch 18/20\n",
      "185/185 [==============================] - 0s 1ms/step - loss: 0.5652 - acc: 0.6973\n",
      "Epoch 19/20\n",
      "185/185 [==============================] - 0s 1ms/step - loss: 0.5643 - acc: 0.7243\n",
      "Epoch 20/20\n",
      "185/185 [==============================] - 0s 1ms/step - loss: 0.5588 - acc: 0.7351\n"
     ]
    },
    {
     "data": {
      "text/plain": [
       "<keras.callbacks.History at 0x1a3e8ed390>"
      ]
     },
     "execution_count": 192,
     "metadata": {},
     "output_type": "execute_result"
    }
   ],
   "source": [
    "model.compile(loss='binary_crossentropy',\n",
    "              optimizer='adam',\n",
    "              metrics=['accuracy'])\n",
    "model.fit(X_train, y_train,epochs=20, batch_size=1, verbose=1)"
   ]
  },
  {
   "cell_type": "code",
   "execution_count": 193,
   "metadata": {},
   "outputs": [
    {
     "data": {
      "text/plain": [
       "array([[0],\n",
       "       [0],\n",
       "       [0],\n",
       "       [0],\n",
       "       [1]], dtype=int32)"
      ]
     },
     "execution_count": 193,
     "metadata": {},
     "output_type": "execute_result"
    }
   ],
   "source": [
    "y_pred = model.predict_classes(X_test)\n",
    "y_pred[:5]"
   ]
  },
  {
   "cell_type": "code",
   "execution_count": 194,
   "metadata": {},
   "outputs": [],
   "source": [
    "from sklearn.metrics import confusion_matrix, accuracy_score, precision_score, recall_score, f1_score\n",
    "\n",
    "# Confusion matrix\n",
    "cnf_matrix = confusion_matrix(y_test, y_pred)"
   ]
  },
  {
   "cell_type": "code",
   "execution_count": 195,
   "metadata": {},
   "outputs": [
    {
     "data": {
      "text/plain": [
       "0.35714285714285715"
      ]
     },
     "execution_count": 195,
     "metadata": {},
     "output_type": "execute_result"
    }
   ],
   "source": [
    "# Precision \n",
    "precision_score(y_test, y_pred)"
   ]
  },
  {
   "cell_type": "code",
   "execution_count": 196,
   "metadata": {},
   "outputs": [
    {
     "data": {
      "text/plain": [
       "0.3125"
      ]
     },
     "execution_count": 196,
     "metadata": {},
     "output_type": "execute_result"
    }
   ],
   "source": [
    "# Recall\n",
    "recall_score(y_test, y_pred)"
   ]
  },
  {
   "cell_type": "code",
   "execution_count": 197,
   "metadata": {},
   "outputs": [
    {
     "data": {
      "text/plain": [
       "0.3333333333333333"
      ]
     },
     "execution_count": 197,
     "metadata": {},
     "output_type": "execute_result"
    }
   ],
   "source": [
    "# F1 score\n",
    "f1_score(y_test,y_pred)"
   ]
  },
  {
   "cell_type": "code",
   "execution_count": 198,
   "metadata": {},
   "outputs": [
    {
     "data": {
      "text/plain": [
       "0.7332900775239822"
      ]
     },
     "execution_count": 198,
     "metadata": {},
     "output_type": "execute_result"
    }
   ],
   "source": [
    "mse_value, mae_value = model.evaluate(X_test, y_test, verbose=0)\n",
    "mse_value"
   ]
  },
  {
   "cell_type": "code",
   "execution_count": 199,
   "metadata": {},
   "outputs": [
    {
     "data": {
      "text/plain": [
       "0.574468085106383"
      ]
     },
     "execution_count": 199,
     "metadata": {},
     "output_type": "execute_result"
    }
   ],
   "source": [
    "accuracy_score(y_test, y_pred)"
   ]
  },
  {
   "cell_type": "code",
   "execution_count": 200,
   "metadata": {},
   "outputs": [
    {
     "data": {
      "text/plain": [
       "Text(0.5, 257.44, 'Predicted')"
      ]
     },
     "execution_count": 200,
     "metadata": {},
     "output_type": "execute_result"
    },
    {
     "data": {
      "image/png": "[encoded data removed]",
      "text/plain": [
       "<Figure size 432x288 with 2 Axes>"
      ]
     },
     "metadata": {
      "needs_background": "light"
     },
     "output_type": "display_data"
    }
   ],
   "source": [
    "class_names=[0,1] # name  of classes\n",
    "fig, ax = plt.subplots()\n",
    "tick_marks = np.arange(len(class_names))\n",
    "plt.xticks(tick_marks, class_names)\n",
    "plt.yticks(tick_marks, class_names)\n",
    "# create heatmap\n",
    "sns.heatmap(pd.DataFrame(cnf_matrix), annot=True, cmap=\"YlGnBu\" ,fmt='g')\n",
    "ax.xaxis.set_label_position(\"top\")\n",
    "plt.tight_layout()\n",
    "plt.title('Confusion matrix', y=1.1)\n",
    "plt.ylabel('Actual')\n",
    "plt.xlabel('Predicted')"
   ]
  },
  {
   "cell_type": "code",
   "execution_count": null,
   "metadata": {},
   "outputs": [],
   "source": []
  }
 ],
 "metadata": {
  "kernelspec": {
   "display_name": "Python 3",
   "language": "python",
   "name": "python3"
  },
  "language_info": {
   "codemirror_mode": {
    "name": "ipython",
    "version": 3
   },
   "file_extension": ".py",
   "mimetype": "text/x-python",
   "name": "python",
   "nbconvert_exporter": "python",
   "pygments_lexer": "ipython3",
   "version": "3.7.3"
  }
 },
 "nbformat": 4,
 "nbformat_minor": 2
}
